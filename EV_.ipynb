{
  "cells": [
    {
      "cell_type": "code",
      "execution_count": 2,
      "id": "22778366",
      "metadata": {
        "id": "22778366"
      },
      "outputs": [],
      "source": [
        "import numpy as np\n",
        "import pandas as pd\n",
        "import matplotlib.pyplot as plt\n",
        "import seaborn as sns\n",
        "import scipy.stats"
      ]
    },
    {
      "cell_type": "code",
      "execution_count": 3,
      "id": "d29cacb4",
      "metadata": {
        "colab": {
          "base_uri": "https://localhost:8080/",
          "height": 478
        },
        "id": "d29cacb4",
        "outputId": "18a01c99-61a6-49f5-97eb-1ebef680a09b"
      },
      "outputs": [
        {
          "output_type": "execute_result",
          "data": {
            "text/plain": [
              "   Unnamed: 0  Age       City Profession Marital Status Education  \\\n",
              "0           0   30      Nabha       None         Single  Graduate   \n",
              "1           1   27       Pune       None         Single  Graduate   \n",
              "2           2   32  Kashipur        None         Single  Graduate   \n",
              "3           3   55       Pune   Business         Single  Graduate   \n",
              "4           4   26     Satara       None         Single  Graduate   \n",
              "\n",
              "   No. of Family members  Annual Income  \\\n",
              "0                      5   1.193876e+06   \n",
              "1                      4   1.844540e+06   \n",
              "2                      4   2.948150e+06   \n",
              "3                      3   2.832380e+06   \n",
              "4                      4   2.638751e+06   \n",
              "\n",
              "  Would you prefer replacing all your vehicles to Electronic vehicles?  \\\n",
              "0                                              Maybe                     \n",
              "1                                                Yes                     \n",
              "2                                                Yes                     \n",
              "3                                              Maybe                     \n",
              "4                                                Yes                     \n",
              "\n",
              "  If Yes/Maybe what type of  EV would you prefer?  \\\n",
              "0                                             SUV   \n",
              "1                                             SUV   \n",
              "2                                       Hatchback   \n",
              "3                                       Hatchback   \n",
              "4                                           Sedan   \n",
              "\n",
              "  Do you think Electronic Vehicles are economical?  \\\n",
              "0                                              Yes   \n",
              "1                                              Yes   \n",
              "2                                              Yes   \n",
              "3                                               No   \n",
              "4                                              Yes   \n",
              "\n",
              "  Which brand of vehicle do you currently own?  \\\n",
              "0                                      Hyundai   \n",
              "1                                        Honda   \n",
              "2                                          KIA   \n",
              "3                                      Hyundai   \n",
              "4                                     McLaren    \n",
              "\n",
              "  How much money could you spend on an Electronic vehicle?  \\\n",
              "0                                           <5 lakhs         \n",
              "1                                          <15 lakhs         \n",
              "2                                          <15 lakhs         \n",
              "3                                           <5 lakhs         \n",
              "4                                          <15 lakhs         \n",
              "\n",
              "   Preference for wheels in EV  \\\n",
              "0                            2   \n",
              "1                            4   \n",
              "2                            4   \n",
              "3                            4   \n",
              "4                            4   \n",
              "\n",
              "  Do you think Electronic vehicles will replace fuel cars in India?  \n",
              "0                                   I don't think so                 \n",
              "1                                   Yes, in <20years                 \n",
              "2                                   Yes, in <20years                 \n",
              "3                                  Yes, in <10 years                 \n",
              "4                                   Yes, in <20years                 "
            ],
            "text/html": [
              "\n",
              "\n",
              "  <div id=\"df-c75d39bd-1fc5-4dfc-b0c4-42ba45b6fd1f\">\n",
              "    <div class=\"colab-df-container\">\n",
              "      <div>\n",
              "<style scoped>\n",
              "    .dataframe tbody tr th:only-of-type {\n",
              "        vertical-align: middle;\n",
              "    }\n",
              "\n",
              "    .dataframe tbody tr th {\n",
              "        vertical-align: top;\n",
              "    }\n",
              "\n",
              "    .dataframe thead th {\n",
              "        text-align: right;\n",
              "    }\n",
              "</style>\n",
              "<table border=\"1\" class=\"dataframe\">\n",
              "  <thead>\n",
              "    <tr style=\"text-align: right;\">\n",
              "      <th></th>\n",
              "      <th>Unnamed: 0</th>\n",
              "      <th>Age</th>\n",
              "      <th>City</th>\n",
              "      <th>Profession</th>\n",
              "      <th>Marital Status</th>\n",
              "      <th>Education</th>\n",
              "      <th>No. of Family members</th>\n",
              "      <th>Annual Income</th>\n",
              "      <th>Would you prefer replacing all your vehicles to Electronic vehicles?</th>\n",
              "      <th>If Yes/Maybe what type of  EV would you prefer?</th>\n",
              "      <th>Do you think Electronic Vehicles are economical?</th>\n",
              "      <th>Which brand of vehicle do you currently own?</th>\n",
              "      <th>How much money could you spend on an Electronic vehicle?</th>\n",
              "      <th>Preference for wheels in EV</th>\n",
              "      <th>Do you think Electronic vehicles will replace fuel cars in India?</th>\n",
              "    </tr>\n",
              "  </thead>\n",
              "  <tbody>\n",
              "    <tr>\n",
              "      <th>0</th>\n",
              "      <td>0</td>\n",
              "      <td>30</td>\n",
              "      <td>Nabha</td>\n",
              "      <td>None</td>\n",
              "      <td>Single</td>\n",
              "      <td>Graduate</td>\n",
              "      <td>5</td>\n",
              "      <td>1.193876e+06</td>\n",
              "      <td>Maybe</td>\n",
              "      <td>SUV</td>\n",
              "      <td>Yes</td>\n",
              "      <td>Hyundai</td>\n",
              "      <td>&lt;5 lakhs</td>\n",
              "      <td>2</td>\n",
              "      <td>I don't think so</td>\n",
              "    </tr>\n",
              "    <tr>\n",
              "      <th>1</th>\n",
              "      <td>1</td>\n",
              "      <td>27</td>\n",
              "      <td>Pune</td>\n",
              "      <td>None</td>\n",
              "      <td>Single</td>\n",
              "      <td>Graduate</td>\n",
              "      <td>4</td>\n",
              "      <td>1.844540e+06</td>\n",
              "      <td>Yes</td>\n",
              "      <td>SUV</td>\n",
              "      <td>Yes</td>\n",
              "      <td>Honda</td>\n",
              "      <td>&lt;15 lakhs</td>\n",
              "      <td>4</td>\n",
              "      <td>Yes, in &lt;20years</td>\n",
              "    </tr>\n",
              "    <tr>\n",
              "      <th>2</th>\n",
              "      <td>2</td>\n",
              "      <td>32</td>\n",
              "      <td>Kashipur</td>\n",
              "      <td>None</td>\n",
              "      <td>Single</td>\n",
              "      <td>Graduate</td>\n",
              "      <td>4</td>\n",
              "      <td>2.948150e+06</td>\n",
              "      <td>Yes</td>\n",
              "      <td>Hatchback</td>\n",
              "      <td>Yes</td>\n",
              "      <td>KIA</td>\n",
              "      <td>&lt;15 lakhs</td>\n",
              "      <td>4</td>\n",
              "      <td>Yes, in &lt;20years</td>\n",
              "    </tr>\n",
              "    <tr>\n",
              "      <th>3</th>\n",
              "      <td>3</td>\n",
              "      <td>55</td>\n",
              "      <td>Pune</td>\n",
              "      <td>Business</td>\n",
              "      <td>Single</td>\n",
              "      <td>Graduate</td>\n",
              "      <td>3</td>\n",
              "      <td>2.832380e+06</td>\n",
              "      <td>Maybe</td>\n",
              "      <td>Hatchback</td>\n",
              "      <td>No</td>\n",
              "      <td>Hyundai</td>\n",
              "      <td>&lt;5 lakhs</td>\n",
              "      <td>4</td>\n",
              "      <td>Yes, in &lt;10 years</td>\n",
              "    </tr>\n",
              "    <tr>\n",
              "      <th>4</th>\n",
              "      <td>4</td>\n",
              "      <td>26</td>\n",
              "      <td>Satara</td>\n",
              "      <td>None</td>\n",
              "      <td>Single</td>\n",
              "      <td>Graduate</td>\n",
              "      <td>4</td>\n",
              "      <td>2.638751e+06</td>\n",
              "      <td>Yes</td>\n",
              "      <td>Sedan</td>\n",
              "      <td>Yes</td>\n",
              "      <td>McLaren</td>\n",
              "      <td>&lt;15 lakhs</td>\n",
              "      <td>4</td>\n",
              "      <td>Yes, in &lt;20years</td>\n",
              "    </tr>\n",
              "  </tbody>\n",
              "</table>\n",
              "</div>\n",
              "      <button class=\"colab-df-convert\" onclick=\"convertToInteractive('df-c75d39bd-1fc5-4dfc-b0c4-42ba45b6fd1f')\"\n",
              "              title=\"Convert this dataframe to an interactive table.\"\n",
              "              style=\"display:none;\">\n",
              "\n",
              "  <svg xmlns=\"http://www.w3.org/2000/svg\" height=\"24px\"viewBox=\"0 0 24 24\"\n",
              "       width=\"24px\">\n",
              "    <path d=\"M0 0h24v24H0V0z\" fill=\"none\"/>\n",
              "    <path d=\"M18.56 5.44l.94 2.06.94-2.06 2.06-.94-2.06-.94-.94-2.06-.94 2.06-2.06.94zm-11 1L8.5 8.5l.94-2.06 2.06-.94-2.06-.94L8.5 2.5l-.94 2.06-2.06.94zm10 10l.94 2.06.94-2.06 2.06-.94-2.06-.94-.94-2.06-.94 2.06-2.06.94z\"/><path d=\"M17.41 7.96l-1.37-1.37c-.4-.4-.92-.59-1.43-.59-.52 0-1.04.2-1.43.59L10.3 9.45l-7.72 7.72c-.78.78-.78 2.05 0 2.83L4 21.41c.39.39.9.59 1.41.59.51 0 1.02-.2 1.41-.59l7.78-7.78 2.81-2.81c.8-.78.8-2.07 0-2.86zM5.41 20L4 18.59l7.72-7.72 1.47 1.35L5.41 20z\"/>\n",
              "  </svg>\n",
              "      </button>\n",
              "\n",
              "\n",
              "\n",
              "    <div id=\"df-4bd2421d-61f3-473e-bb94-139e2d44dbff\">\n",
              "      <button class=\"colab-df-quickchart\" onclick=\"quickchart('df-4bd2421d-61f3-473e-bb94-139e2d44dbff')\"\n",
              "              title=\"Suggest charts.\"\n",
              "              style=\"display:none;\">\n",
              "\n",
              "<svg xmlns=\"http://www.w3.org/2000/svg\" height=\"24px\"viewBox=\"0 0 24 24\"\n",
              "     width=\"24px\">\n",
              "    <g>\n",
              "        <path d=\"M19 3H5c-1.1 0-2 .9-2 2v14c0 1.1.9 2 2 2h14c1.1 0 2-.9 2-2V5c0-1.1-.9-2-2-2zM9 17H7v-7h2v7zm4 0h-2V7h2v10zm4 0h-2v-4h2v4z\"/>\n",
              "    </g>\n",
              "</svg>\n",
              "      </button>\n",
              "    </div>\n",
              "\n",
              "<style>\n",
              "  .colab-df-quickchart {\n",
              "    background-color: #E8F0FE;\n",
              "    border: none;\n",
              "    border-radius: 50%;\n",
              "    cursor: pointer;\n",
              "    display: none;\n",
              "    fill: #1967D2;\n",
              "    height: 32px;\n",
              "    padding: 0 0 0 0;\n",
              "    width: 32px;\n",
              "  }\n",
              "\n",
              "  .colab-df-quickchart:hover {\n",
              "    background-color: #E2EBFA;\n",
              "    box-shadow: 0px 1px 2px rgba(60, 64, 67, 0.3), 0px 1px 3px 1px rgba(60, 64, 67, 0.15);\n",
              "    fill: #174EA6;\n",
              "  }\n",
              "\n",
              "  [theme=dark] .colab-df-quickchart {\n",
              "    background-color: #3B4455;\n",
              "    fill: #D2E3FC;\n",
              "  }\n",
              "\n",
              "  [theme=dark] .colab-df-quickchart:hover {\n",
              "    background-color: #434B5C;\n",
              "    box-shadow: 0px 1px 3px 1px rgba(0, 0, 0, 0.15);\n",
              "    filter: drop-shadow(0px 1px 2px rgba(0, 0, 0, 0.3));\n",
              "    fill: #FFFFFF;\n",
              "  }\n",
              "</style>\n",
              "\n",
              "    <script>\n",
              "      async function quickchart(key) {\n",
              "        const containerElement = document.querySelector('#' + key);\n",
              "        const charts = await google.colab.kernel.invokeFunction(\n",
              "            'suggestCharts', [key], {});\n",
              "      }\n",
              "    </script>\n",
              "\n",
              "      <script>\n",
              "\n",
              "function displayQuickchartButton(domScope) {\n",
              "  let quickchartButtonEl =\n",
              "    domScope.querySelector('#df-4bd2421d-61f3-473e-bb94-139e2d44dbff button.colab-df-quickchart');\n",
              "  quickchartButtonEl.style.display =\n",
              "    google.colab.kernel.accessAllowed ? 'block' : 'none';\n",
              "}\n",
              "\n",
              "        displayQuickchartButton(document);\n",
              "      </script>\n",
              "      <style>\n",
              "    .colab-df-container {\n",
              "      display:flex;\n",
              "      flex-wrap:wrap;\n",
              "      gap: 12px;\n",
              "    }\n",
              "\n",
              "    .colab-df-convert {\n",
              "      background-color: #E8F0FE;\n",
              "      border: none;\n",
              "      border-radius: 50%;\n",
              "      cursor: pointer;\n",
              "      display: none;\n",
              "      fill: #1967D2;\n",
              "      height: 32px;\n",
              "      padding: 0 0 0 0;\n",
              "      width: 32px;\n",
              "    }\n",
              "\n",
              "    .colab-df-convert:hover {\n",
              "      background-color: #E2EBFA;\n",
              "      box-shadow: 0px 1px 2px rgba(60, 64, 67, 0.3), 0px 1px 3px 1px rgba(60, 64, 67, 0.15);\n",
              "      fill: #174EA6;\n",
              "    }\n",
              "\n",
              "    [theme=dark] .colab-df-convert {\n",
              "      background-color: #3B4455;\n",
              "      fill: #D2E3FC;\n",
              "    }\n",
              "\n",
              "    [theme=dark] .colab-df-convert:hover {\n",
              "      background-color: #434B5C;\n",
              "      box-shadow: 0px 1px 3px 1px rgba(0, 0, 0, 0.15);\n",
              "      filter: drop-shadow(0px 1px 2px rgba(0, 0, 0, 0.3));\n",
              "      fill: #FFFFFF;\n",
              "    }\n",
              "  </style>\n",
              "\n",
              "      <script>\n",
              "        const buttonEl =\n",
              "          document.querySelector('#df-c75d39bd-1fc5-4dfc-b0c4-42ba45b6fd1f button.colab-df-convert');\n",
              "        buttonEl.style.display =\n",
              "          google.colab.kernel.accessAllowed ? 'block' : 'none';\n",
              "\n",
              "        async function convertToInteractive(key) {\n",
              "          const element = document.querySelector('#df-c75d39bd-1fc5-4dfc-b0c4-42ba45b6fd1f');\n",
              "          const dataTable =\n",
              "            await google.colab.kernel.invokeFunction('convertToInteractive',\n",
              "                                                     [key], {});\n",
              "          if (!dataTable) return;\n",
              "\n",
              "          const docLinkHtml = 'Like what you see? Visit the ' +\n",
              "            '<a target=\"_blank\" href=https://colab.research.google.com/notebooks/data_table.ipynb>data table notebook</a>'\n",
              "            + ' to learn more about interactive tables.';\n",
              "          element.innerHTML = '';\n",
              "          dataTable['output_type'] = 'display_data';\n",
              "          await google.colab.output.renderOutput(dataTable, element);\n",
              "          const docLink = document.createElement('div');\n",
              "          docLink.innerHTML = docLinkHtml;\n",
              "          element.appendChild(docLink);\n",
              "        }\n",
              "      </script>\n",
              "    </div>\n",
              "  </div>\n"
            ]
          },
          "metadata": {},
          "execution_count": 3
        }
      ],
      "source": [
        "df1=pd.read_csv(\"indian customer data.csv\")\n",
        "data_copy=df1\n",
        "df1.head()"
      ]
    },
    {
      "cell_type": "code",
      "execution_count": 4,
      "id": "1dc17b52",
      "metadata": {
        "colab": {
          "base_uri": "https://localhost:8080/"
        },
        "id": "1dc17b52",
        "outputId": "81e4557e-ad39-4a1f-ddff-4e2dd71f6d50"
      },
      "outputs": [
        {
          "output_type": "stream",
          "name": "stdout",
          "text": [
            "Index(['Unnamed: 0', 'Age', 'City', 'Profession', 'Marital Status',\n",
            "       'Education', 'No. of Family members', 'Annual Income',\n",
            "       'Would you prefer replacing all your vehicles to Electronic vehicles?',\n",
            "       'If Yes/Maybe what type of  EV would you prefer?',\n",
            "       'Do you think Electronic Vehicles are economical?',\n",
            "       'Which brand of vehicle do you currently own?',\n",
            "       'How much money could you spend on an Electronic vehicle?',\n",
            "       'Preference for wheels in EV',\n",
            "       'Do you think Electronic vehicles will replace fuel cars in India?'],\n",
            "      dtype='object')\n"
          ]
        }
      ],
      "source": [
        "print(df1.columns)"
      ]
    },
    {
      "cell_type": "code",
      "execution_count": 5,
      "id": "5ea7309a",
      "metadata": {
        "id": "5ea7309a"
      },
      "outputs": [],
      "source": [
        "df1.drop('Unnamed: 0',axis=1,inplace=True)  # Unnamed: 0 column is indicating the index, which has no use so drop it."
      ]
    },
    {
      "cell_type": "code",
      "execution_count": 6,
      "id": "c0079e91",
      "metadata": {
        "colab": {
          "base_uri": "https://localhost:8080/"
        },
        "id": "c0079e91",
        "outputId": "bc951344-e2d1-4851-ddc3-b8358e5a7b8b"
      },
      "outputs": [
        {
          "output_type": "execute_result",
          "data": {
            "text/plain": [
              "(1000, 14)"
            ]
          },
          "metadata": {},
          "execution_count": 6
        }
      ],
      "source": [
        "df1.shape"
      ]
    },
    {
      "cell_type": "code",
      "execution_count": 7,
      "id": "3eda02d6",
      "metadata": {
        "colab": {
          "base_uri": "https://localhost:8080/",
          "height": 300
        },
        "id": "3eda02d6",
        "outputId": "e4e6ad52-ac6b-4978-f92b-6153c1f64841"
      },
      "outputs": [
        {
          "output_type": "execute_result",
          "data": {
            "text/plain": [
              "               Age  No. of Family members  Annual Income  \\\n",
              "count  1000.000000            1000.000000   1.000000e+03   \n",
              "mean     31.800000               4.118000   2.258342e+06   \n",
              "std      11.294847               1.469774   9.993558e+05   \n",
              "min      15.000000               0.000000  -3.761509e+05   \n",
              "25%      26.000000               4.000000   1.782116e+06   \n",
              "50%      29.000000               4.000000   2.329246e+06   \n",
              "75%      31.000000               5.000000   2.753170e+06   \n",
              "max     118.000000               8.000000   1.282128e+07   \n",
              "\n",
              "       Preference for wheels in EV  \n",
              "count                  1000.000000  \n",
              "mean                      3.349000  \n",
              "std                       0.887686  \n",
              "min                       2.000000  \n",
              "25%                       2.000000  \n",
              "50%                       4.000000  \n",
              "75%                       4.000000  \n",
              "max                       4.000000  "
            ],
            "text/html": [
              "\n",
              "\n",
              "  <div id=\"df-20a04aa6-86b5-4b77-92ef-f416156f029c\">\n",
              "    <div class=\"colab-df-container\">\n",
              "      <div>\n",
              "<style scoped>\n",
              "    .dataframe tbody tr th:only-of-type {\n",
              "        vertical-align: middle;\n",
              "    }\n",
              "\n",
              "    .dataframe tbody tr th {\n",
              "        vertical-align: top;\n",
              "    }\n",
              "\n",
              "    .dataframe thead th {\n",
              "        text-align: right;\n",
              "    }\n",
              "</style>\n",
              "<table border=\"1\" class=\"dataframe\">\n",
              "  <thead>\n",
              "    <tr style=\"text-align: right;\">\n",
              "      <th></th>\n",
              "      <th>Age</th>\n",
              "      <th>No. of Family members</th>\n",
              "      <th>Annual Income</th>\n",
              "      <th>Preference for wheels in EV</th>\n",
              "    </tr>\n",
              "  </thead>\n",
              "  <tbody>\n",
              "    <tr>\n",
              "      <th>count</th>\n",
              "      <td>1000.000000</td>\n",
              "      <td>1000.000000</td>\n",
              "      <td>1.000000e+03</td>\n",
              "      <td>1000.000000</td>\n",
              "    </tr>\n",
              "    <tr>\n",
              "      <th>mean</th>\n",
              "      <td>31.800000</td>\n",
              "      <td>4.118000</td>\n",
              "      <td>2.258342e+06</td>\n",
              "      <td>3.349000</td>\n",
              "    </tr>\n",
              "    <tr>\n",
              "      <th>std</th>\n",
              "      <td>11.294847</td>\n",
              "      <td>1.469774</td>\n",
              "      <td>9.993558e+05</td>\n",
              "      <td>0.887686</td>\n",
              "    </tr>\n",
              "    <tr>\n",
              "      <th>min</th>\n",
              "      <td>15.000000</td>\n",
              "      <td>0.000000</td>\n",
              "      <td>-3.761509e+05</td>\n",
              "      <td>2.000000</td>\n",
              "    </tr>\n",
              "    <tr>\n",
              "      <th>25%</th>\n",
              "      <td>26.000000</td>\n",
              "      <td>4.000000</td>\n",
              "      <td>1.782116e+06</td>\n",
              "      <td>2.000000</td>\n",
              "    </tr>\n",
              "    <tr>\n",
              "      <th>50%</th>\n",
              "      <td>29.000000</td>\n",
              "      <td>4.000000</td>\n",
              "      <td>2.329246e+06</td>\n",
              "      <td>4.000000</td>\n",
              "    </tr>\n",
              "    <tr>\n",
              "      <th>75%</th>\n",
              "      <td>31.000000</td>\n",
              "      <td>5.000000</td>\n",
              "      <td>2.753170e+06</td>\n",
              "      <td>4.000000</td>\n",
              "    </tr>\n",
              "    <tr>\n",
              "      <th>max</th>\n",
              "      <td>118.000000</td>\n",
              "      <td>8.000000</td>\n",
              "      <td>1.282128e+07</td>\n",
              "      <td>4.000000</td>\n",
              "    </tr>\n",
              "  </tbody>\n",
              "</table>\n",
              "</div>\n",
              "      <button class=\"colab-df-convert\" onclick=\"convertToInteractive('df-20a04aa6-86b5-4b77-92ef-f416156f029c')\"\n",
              "              title=\"Convert this dataframe to an interactive table.\"\n",
              "              style=\"display:none;\">\n",
              "\n",
              "  <svg xmlns=\"http://www.w3.org/2000/svg\" height=\"24px\"viewBox=\"0 0 24 24\"\n",
              "       width=\"24px\">\n",
              "    <path d=\"M0 0h24v24H0V0z\" fill=\"none\"/>\n",
              "    <path d=\"M18.56 5.44l.94 2.06.94-2.06 2.06-.94-2.06-.94-.94-2.06-.94 2.06-2.06.94zm-11 1L8.5 8.5l.94-2.06 2.06-.94-2.06-.94L8.5 2.5l-.94 2.06-2.06.94zm10 10l.94 2.06.94-2.06 2.06-.94-2.06-.94-.94-2.06-.94 2.06-2.06.94z\"/><path d=\"M17.41 7.96l-1.37-1.37c-.4-.4-.92-.59-1.43-.59-.52 0-1.04.2-1.43.59L10.3 9.45l-7.72 7.72c-.78.78-.78 2.05 0 2.83L4 21.41c.39.39.9.59 1.41.59.51 0 1.02-.2 1.41-.59l7.78-7.78 2.81-2.81c.8-.78.8-2.07 0-2.86zM5.41 20L4 18.59l7.72-7.72 1.47 1.35L5.41 20z\"/>\n",
              "  </svg>\n",
              "      </button>\n",
              "\n",
              "\n",
              "\n",
              "    <div id=\"df-145d1159-f91a-4ce4-b97e-abae7d84d0ef\">\n",
              "      <button class=\"colab-df-quickchart\" onclick=\"quickchart('df-145d1159-f91a-4ce4-b97e-abae7d84d0ef')\"\n",
              "              title=\"Suggest charts.\"\n",
              "              style=\"display:none;\">\n",
              "\n",
              "<svg xmlns=\"http://www.w3.org/2000/svg\" height=\"24px\"viewBox=\"0 0 24 24\"\n",
              "     width=\"24px\">\n",
              "    <g>\n",
              "        <path d=\"M19 3H5c-1.1 0-2 .9-2 2v14c0 1.1.9 2 2 2h14c1.1 0 2-.9 2-2V5c0-1.1-.9-2-2-2zM9 17H7v-7h2v7zm4 0h-2V7h2v10zm4 0h-2v-4h2v4z\"/>\n",
              "    </g>\n",
              "</svg>\n",
              "      </button>\n",
              "    </div>\n",
              "\n",
              "<style>\n",
              "  .colab-df-quickchart {\n",
              "    background-color: #E8F0FE;\n",
              "    border: none;\n",
              "    border-radius: 50%;\n",
              "    cursor: pointer;\n",
              "    display: none;\n",
              "    fill: #1967D2;\n",
              "    height: 32px;\n",
              "    padding: 0 0 0 0;\n",
              "    width: 32px;\n",
              "  }\n",
              "\n",
              "  .colab-df-quickchart:hover {\n",
              "    background-color: #E2EBFA;\n",
              "    box-shadow: 0px 1px 2px rgba(60, 64, 67, 0.3), 0px 1px 3px 1px rgba(60, 64, 67, 0.15);\n",
              "    fill: #174EA6;\n",
              "  }\n",
              "\n",
              "  [theme=dark] .colab-df-quickchart {\n",
              "    background-color: #3B4455;\n",
              "    fill: #D2E3FC;\n",
              "  }\n",
              "\n",
              "  [theme=dark] .colab-df-quickchart:hover {\n",
              "    background-color: #434B5C;\n",
              "    box-shadow: 0px 1px 3px 1px rgba(0, 0, 0, 0.15);\n",
              "    filter: drop-shadow(0px 1px 2px rgba(0, 0, 0, 0.3));\n",
              "    fill: #FFFFFF;\n",
              "  }\n",
              "</style>\n",
              "\n",
              "    <script>\n",
              "      async function quickchart(key) {\n",
              "        const containerElement = document.querySelector('#' + key);\n",
              "        const charts = await google.colab.kernel.invokeFunction(\n",
              "            'suggestCharts', [key], {});\n",
              "      }\n",
              "    </script>\n",
              "\n",
              "      <script>\n",
              "\n",
              "function displayQuickchartButton(domScope) {\n",
              "  let quickchartButtonEl =\n",
              "    domScope.querySelector('#df-145d1159-f91a-4ce4-b97e-abae7d84d0ef button.colab-df-quickchart');\n",
              "  quickchartButtonEl.style.display =\n",
              "    google.colab.kernel.accessAllowed ? 'block' : 'none';\n",
              "}\n",
              "\n",
              "        displayQuickchartButton(document);\n",
              "      </script>\n",
              "      <style>\n",
              "    .colab-df-container {\n",
              "      display:flex;\n",
              "      flex-wrap:wrap;\n",
              "      gap: 12px;\n",
              "    }\n",
              "\n",
              "    .colab-df-convert {\n",
              "      background-color: #E8F0FE;\n",
              "      border: none;\n",
              "      border-radius: 50%;\n",
              "      cursor: pointer;\n",
              "      display: none;\n",
              "      fill: #1967D2;\n",
              "      height: 32px;\n",
              "      padding: 0 0 0 0;\n",
              "      width: 32px;\n",
              "    }\n",
              "\n",
              "    .colab-df-convert:hover {\n",
              "      background-color: #E2EBFA;\n",
              "      box-shadow: 0px 1px 2px rgba(60, 64, 67, 0.3), 0px 1px 3px 1px rgba(60, 64, 67, 0.15);\n",
              "      fill: #174EA6;\n",
              "    }\n",
              "\n",
              "    [theme=dark] .colab-df-convert {\n",
              "      background-color: #3B4455;\n",
              "      fill: #D2E3FC;\n",
              "    }\n",
              "\n",
              "    [theme=dark] .colab-df-convert:hover {\n",
              "      background-color: #434B5C;\n",
              "      box-shadow: 0px 1px 3px 1px rgba(0, 0, 0, 0.15);\n",
              "      filter: drop-shadow(0px 1px 2px rgba(0, 0, 0, 0.3));\n",
              "      fill: #FFFFFF;\n",
              "    }\n",
              "  </style>\n",
              "\n",
              "      <script>\n",
              "        const buttonEl =\n",
              "          document.querySelector('#df-20a04aa6-86b5-4b77-92ef-f416156f029c button.colab-df-convert');\n",
              "        buttonEl.style.display =\n",
              "          google.colab.kernel.accessAllowed ? 'block' : 'none';\n",
              "\n",
              "        async function convertToInteractive(key) {\n",
              "          const element = document.querySelector('#df-20a04aa6-86b5-4b77-92ef-f416156f029c');\n",
              "          const dataTable =\n",
              "            await google.colab.kernel.invokeFunction('convertToInteractive',\n",
              "                                                     [key], {});\n",
              "          if (!dataTable) return;\n",
              "\n",
              "          const docLinkHtml = 'Like what you see? Visit the ' +\n",
              "            '<a target=\"_blank\" href=https://colab.research.google.com/notebooks/data_table.ipynb>data table notebook</a>'\n",
              "            + ' to learn more about interactive tables.';\n",
              "          element.innerHTML = '';\n",
              "          dataTable['output_type'] = 'display_data';\n",
              "          await google.colab.output.renderOutput(dataTable, element);\n",
              "          const docLink = document.createElement('div');\n",
              "          docLink.innerHTML = docLinkHtml;\n",
              "          element.appendChild(docLink);\n",
              "        }\n",
              "      </script>\n",
              "    </div>\n",
              "  </div>\n"
            ]
          },
          "metadata": {},
          "execution_count": 7
        }
      ],
      "source": [
        "df1.describe()"
      ]
    },
    {
      "cell_type": "markdown",
      "id": "fc8d499c",
      "metadata": {
        "id": "fc8d499c"
      },
      "source": [
        "# Checking for Null Values"
      ]
    },
    {
      "cell_type": "code",
      "execution_count": 8,
      "id": "6148e8d4",
      "metadata": {
        "colab": {
          "base_uri": "https://localhost:8080/"
        },
        "id": "6148e8d4",
        "outputId": "58c662aa-8178-47ed-86f6-424b594b781d"
      },
      "outputs": [
        {
          "output_type": "execute_result",
          "data": {
            "text/plain": [
              "Age                                                                     0\n",
              "City                                                                    0\n",
              "Profession                                                              0\n",
              "Marital Status                                                          0\n",
              "Education                                                               0\n",
              "No. of Family members                                                   0\n",
              "Annual Income                                                           0\n",
              "Would you prefer replacing all your vehicles to Electronic vehicles?    0\n",
              "If Yes/Maybe what type of  EV would you prefer?                         0\n",
              "Do you think Electronic Vehicles are economical?                        0\n",
              "Which brand of vehicle do you currently own?                            0\n",
              "How much money could you spend on an Electronic vehicle?                0\n",
              "Preference for wheels in EV                                             0\n",
              "Do you think Electronic vehicles will replace fuel cars in India?       0\n",
              "dtype: int64"
            ]
          },
          "metadata": {},
          "execution_count": 8
        }
      ],
      "source": [
        "df1.isnull().sum()            # Hurrah! We don't have Null Values"
      ]
    },
    {
      "cell_type": "markdown",
      "id": "5a9e07e2",
      "metadata": {
        "id": "5a9e07e2"
      },
      "source": [
        "# Performing EDA"
      ]
    },
    {
      "cell_type": "code",
      "execution_count": 9,
      "id": "e482084f",
      "metadata": {
        "colab": {
          "base_uri": "https://localhost:8080/",
          "height": 596
        },
        "id": "e482084f",
        "outputId": "a0b7bc4b-62b7-4eba-c0e1-e206d3ce9a56"
      },
      "outputs": [
        {
          "output_type": "stream",
          "name": "stderr",
          "text": [
            "<ipython-input-9-143105724266>:2: UserWarning: \n",
            "\n",
            "`distplot` is a deprecated function and will be removed in seaborn v0.14.0.\n",
            "\n",
            "Please adapt your code to use either `displot` (a figure-level function with\n",
            "similar flexibility) or `histplot` (an axes-level function for histograms).\n",
            "\n",
            "For a guide to updating your code to use the new functions, please see\n",
            "https://gist.github.com/mwaskom/de44147ed2974457ad6372750bbe5751\n",
            "\n",
            "  sns.distplot(df1[\"Age\"])\n"
          ]
        },
        {
          "output_type": "execute_result",
          "data": {
            "text/plain": [
              "<Axes: xlabel='Age', ylabel='Density'>"
            ]
          },
          "metadata": {},
          "execution_count": 9
        },
        {
          "output_type": "display_data",
          "data": {
            "text/plain": [
              "<Figure size 400x400 with 1 Axes>"
            ],
            "image/png": "[encoded data removed]"
          },
          "metadata": {}
        }
      ],
      "source": [
        "plt.figure(figsize=(4,4))\n",
        "sns.distplot(df1[\"Age\"])\n",
        ""
      ]
    },
    {
      "cell_type": "code",
      "execution_count": 10,
      "id": "9f9c37da",
      "metadata": {
        "colab": {
          "base_uri": "https://localhost:8080/"
        },
        "id": "9f9c37da",
        "outputId": "3db11821-0dad-41ac-8763-86d47f6d844a"
      },
      "outputs": [
        {
          "output_type": "execute_result",
          "data": {
            "text/plain": [
              "array(['Nabha', 'Pune', 'Kashipur ', 'Satara', 'Noida', 'Delhi', 'Mumbai',\n",
              "       'pune', 'solapur', 'Haldwani ', 'Nellore ', 'Pune ', 'Haldwani',\n",
              "       'Banglore ', 'Faridabad ', 'Nagpur', 'Chandrapur ', 'Chennai',\n",
              "       'Gurugram ', 'Nashik', 'Bengaluru', 'Mumbai ', 'Hakdwani',\n",
              "       'Patiyala', 'pUNE', 'Ahmedabad', 'Karnal', 'Rewari', 'New Delhi',\n",
              "       'Serampore', 'Jhansi', 'New Delhi ', 'Jalandhar', 'Delhi ',\n",
              "       'nashik'], dtype=object)"
            ]
          },
          "metadata": {},
          "execution_count": 10
        }
      ],
      "source": [
        "df1[\"City\"].unique()    #Oh No! pune is entered in many ways, so we have to correct this"
      ]
    },
    {
      "cell_type": "code",
      "execution_count": 11,
      "id": "d7e2d1be",
      "metadata": {
        "id": "d7e2d1be"
      },
      "outputs": [],
      "source": [
        "df1[\"City\"]=df1[\"City\"].replace({\"Pune \":\"Pune\",\"pUNE\":\"Pune\",\"pune\":\"Pune\",\"Pune\":\"Pune\"})\n",
        "df1[\"City\"]=df1[\"City\"].replace({\"Banglore \":\"Bengaluru\"})\n",
        "df1[\"City\"]=df1[\"City\"].replace({\"Hakdwani\":\"Haldwani\",\"Haldwani \":\"Haldwani\"})\n",
        "df1[\"City\"]=df1[\"City\"].replace({\"New Delhi \":\"Delhi\",\"Delhi \":\"Delhi\"})\n",
        "df1[\"City\"]=df1[\"City\"].replace({\"nashik\":\"Nashik\"})\n",
        "df1[\"City\"]=df1[\"City\"].replace({\"Mumbai \":\"Mumbai\"})"
      ]
    },
    {
      "cell_type": "code",
      "execution_count": 12,
      "id": "ed9c8e6b",
      "metadata": {
        "colab": {
          "base_uri": "https://localhost:8080/"
        },
        "id": "ed9c8e6b",
        "outputId": "2fcff408-35c7-4d33-fe41-1020f4165b72"
      },
      "outputs": [
        {
          "output_type": "execute_result",
          "data": {
            "text/plain": [
              "array(['Nabha', 'Pune', 'Kashipur ', 'Satara', 'Noida', 'Delhi', 'Mumbai',\n",
              "       'solapur', 'Haldwani', 'Nellore ', 'Bengaluru', 'Faridabad ',\n",
              "       'Nagpur', 'Chandrapur ', 'Chennai', 'Gurugram ', 'Nashik',\n",
              "       'Patiyala', 'Ahmedabad', 'Karnal', 'Rewari', 'New Delhi',\n",
              "       'Serampore', 'Jhansi', 'Jalandhar'], dtype=object)"
            ]
          },
          "metadata": {},
          "execution_count": 12
        }
      ],
      "source": [
        "df1[\"City\"].unique()"
      ]
    },
    {
      "cell_type": "code",
      "execution_count": 13,
      "id": "ae989293",
      "metadata": {
        "colab": {
          "base_uri": "https://localhost:8080/",
          "height": 466
        },
        "id": "ae989293",
        "outputId": "ff9eafe0-f2a2-463d-b02a-44d354a47ed1"
      },
      "outputs": [
        {
          "output_type": "execute_result",
          "data": {
            "text/plain": [
              "<Axes: xlabel='City', ylabel='count'>"
            ]
          },
          "metadata": {},
          "execution_count": 13
        },
        {
          "output_type": "display_data",
          "data": {
            "text/plain": [
              "<Figure size 640x480 with 1 Axes>"
            ],
            "image/png": "[encoded data removed]"
          },
          "metadata": {}
        }
      ],
      "source": [
        "sns.countplot(x='City',data=df1,order=df1['City'].value_counts().iloc[:6].index)"
      ]
    },
    {
      "cell_type": "code",
      "execution_count": 14,
      "id": "cdf1f268",
      "metadata": {
        "colab": {
          "base_uri": "https://localhost:8080/",
          "height": 362
        },
        "id": "cdf1f268",
        "outputId": "8ba5042e-985b-4dc4-b717-244023ee8486"
      },
      "outputs": [
        {
          "output_type": "execute_result",
          "data": {
            "text/plain": [
              "<Axes: ylabel='Profession'>"
            ]
          },
          "metadata": {},
          "execution_count": 14
        },
        {
          "output_type": "display_data",
          "data": {
            "text/plain": [
              "<Figure size 400x400 with 1 Axes>"
            ],
            "image/png": "[encoded data removed]"
          },
          "metadata": {}
        }
      ],
      "source": [
        "plt.figure(figsize=(4,4))\n",
        "df1[\"Profession\"].value_counts().plot(kind=\"pie\",autopct=\"%0.1f%%\")"
      ]
    },
    {
      "cell_type": "code",
      "execution_count": 15,
      "id": "7157ef62",
      "metadata": {
        "colab": {
          "base_uri": "https://localhost:8080/"
        },
        "id": "7157ef62",
        "outputId": "4d6df84e-89c5-4311-bf49-fbc1d985f758"
      },
      "outputs": [
        {
          "output_type": "execute_result",
          "data": {
            "text/plain": [
              "array(['Graduate', 'Post Graduate'], dtype=object)"
            ]
          },
          "metadata": {},
          "execution_count": 15
        }
      ],
      "source": [
        "df1['Education'].unique()"
      ]
    },
    {
      "cell_type": "code",
      "execution_count": 16,
      "id": "9342284d",
      "metadata": {
        "colab": {
          "base_uri": "https://localhost:8080/",
          "height": 362
        },
        "id": "9342284d",
        "outputId": "c3c513e1-00fa-46d6-be55-3c764e6cbc06"
      },
      "outputs": [
        {
          "output_type": "execute_result",
          "data": {
            "text/plain": [
              "<Axes: ylabel='Education'>"
            ]
          },
          "metadata": {},
          "execution_count": 16
        },
        {
          "output_type": "display_data",
          "data": {
            "text/plain": [
              "<Figure size 400x400 with 1 Axes>"
            ],
            "image/png": "[encoded data removed]"
          },
          "metadata": {}
        }
      ],
      "source": [
        "plt.figure(figsize=(4,4))\n",
        "df1[\"Education\"].value_counts().plot(kind=\"pie\",autopct=\"%0.1f%%\")"
      ]
    },
    {
      "cell_type": "code",
      "execution_count": 17,
      "id": "e8e02bd3",
      "metadata": {
        "colab": {
          "base_uri": "https://localhost:8080/",
          "height": 534
        },
        "id": "e8e02bd3",
        "outputId": "2765447e-f6a8-4d68-9b4f-d8953ea75227"
      },
      "outputs": [
        {
          "output_type": "execute_result",
          "data": {
            "text/plain": [
              "<Axes: >"
            ]
          },
          "metadata": {},
          "execution_count": 17
        },
        {
          "output_type": "display_data",
          "data": {
            "text/plain": [
              "<Figure size 600x600 with 1 Axes>"
            ],
            "image/png": "[encoded data removed]"
          },
          "metadata": {}
        }
      ],
      "source": [
        "plt.figure(figsize=(6,6))\n",
        "df1[\"No. of Family members\"].value_counts().plot(kind=\"bar\",color=\"green\")"
      ]
    },
    {
      "cell_type": "code",
      "execution_count": 18,
      "id": "8b125775",
      "metadata": {
        "colab": {
          "base_uri": "https://localhost:8080/",
          "height": 559
        },
        "id": "8b125775",
        "outputId": "4f3a903f-3388-4cad-e574-b79df273a75b"
      },
      "outputs": [
        {
          "output_type": "execute_result",
          "data": {
            "text/plain": [
              "<Axes: xlabel='Annual Income', ylabel='Count'>"
            ]
          },
          "metadata": {},
          "execution_count": 18
        },
        {
          "output_type": "display_data",
          "data": {
            "text/plain": [
              "<Figure size 600x600 with 1 Axes>"
            ],
            "image/png": "[encoded data removed]"
          },
          "metadata": {}
        }
      ],
      "source": [
        "plt.figure(figsize=(6,6))\n",
        "sns.histplot(df1[\"Annual Income\"],color=\"blue\")"
      ]
    },
    {
      "cell_type": "code",
      "execution_count": 19,
      "id": "eb2e4a3f",
      "metadata": {
        "colab": {
          "base_uri": "https://localhost:8080/",
          "height": 362
        },
        "id": "eb2e4a3f",
        "outputId": "37304a90-3b3f-484a-bf84-f7e5f7cfef4a"
      },
      "outputs": [
        {
          "output_type": "execute_result",
          "data": {
            "text/plain": [
              "<Axes: ylabel='Would you prefer replacing all your vehicles to Electronic vehicles?'>"
            ]
          },
          "metadata": {},
          "execution_count": 19
        },
        {
          "output_type": "display_data",
          "data": {
            "text/plain": [
              "<Figure size 400x400 with 1 Axes>"
            ],
            "image/png": "[encoded data removed]"
          },
          "metadata": {}
        }
      ],
      "source": [
        "plt.figure(figsize=(4,4))\n",
        "df1[\"Would you prefer replacing all your vehicles to Electronic vehicles?\"].value_counts().plot(kind=\"pie\",autopct=\"%0.1f%%\")"
      ]
    },
    {
      "cell_type": "code",
      "execution_count": 20,
      "id": "85ead4bd",
      "metadata": {
        "colab": {
          "base_uri": "https://localhost:8080/",
          "height": 362
        },
        "id": "85ead4bd",
        "outputId": "41fbad83-56f5-4cd0-8290-c8488e3664f3"
      },
      "outputs": [
        {
          "output_type": "execute_result",
          "data": {
            "text/plain": [
              "<Axes: ylabel='Preference for wheels in EV'>"
            ]
          },
          "metadata": {},
          "execution_count": 20
        },
        {
          "output_type": "display_data",
          "data": {
            "text/plain": [
              "<Figure size 400x400 with 1 Axes>"
            ],
            "image/png": "[encoded data removed]"
          },
          "metadata": {}
        }
      ],
      "source": [
        "plt.figure(figsize=(4,4))\n",
        "df1[\"Preference for wheels in EV\"].value_counts().plot(kind=\"pie\",autopct=\"%0.1f%%\")"
      ]
    },
    {
      "cell_type": "code",
      "execution_count": 21,
      "id": "472db5de",
      "metadata": {
        "colab": {
          "base_uri": "https://localhost:8080/",
          "height": 697
        },
        "id": "472db5de",
        "outputId": "d17737f6-ae99-4576-eb49-9de4f6aea52f"
      },
      "outputs": [
        {
          "output_type": "execute_result",
          "data": {
            "text/plain": [
              "<Axes: >"
            ]
          },
          "metadata": {},
          "execution_count": 21
        },
        {
          "output_type": "display_data",
          "data": {
            "text/plain": [
              "<Figure size 700x700 with 1 Axes>"
            ],
            "image/png": "[encoded data removed]"
          },
          "metadata": {}
        }
      ],
      "source": [
        "plt.figure(figsize=(7,7))\n",
        "df1[\"Which brand of vehicle do you currently own?\"].value_counts().plot(kind=\"bar\")\n",
        ""
      ]
    },
    {
      "cell_type": "code",
      "execution_count": 22,
      "id": "4efc871a",
      "metadata": {
        "colab": {
          "base_uri": "https://localhost:8080/",
          "height": 466
        },
        "id": "4efc871a",
        "outputId": "0dec625c-bf8c-434f-bc7f-07f070864cb8"
      },
      "outputs": [
        {
          "output_type": "execute_result",
          "data": {
            "text/plain": [
              "<Axes: xlabel='Education', ylabel='count'>"
            ]
          },
          "metadata": {},
          "execution_count": 22
        },
        {
          "output_type": "display_data",
          "data": {
            "text/plain": [
              "<Figure size 640x480 with 1 Axes>"
            ],
            "image/png": "[encoded data removed]"
          },
          "metadata": {}
        }
      ],
      "source": [
        "sns.countplot(x=\"Education\",data=df1,hue=\"Do you think Electronic Vehicles are economical?\")"
      ]
    },
    {
      "cell_type": "code",
      "execution_count": 23,
      "id": "fbdeb66d",
      "metadata": {
        "colab": {
          "base_uri": "https://localhost:8080/",
          "height": 489
        },
        "id": "fbdeb66d",
        "outputId": "70486fe1-e4ae-4fa3-8df0-a097e171a1c0"
      },
      "outputs": [
        {
          "output_type": "execute_result",
          "data": {
            "text/plain": [
              "<Axes: xlabel='No. of Family members', ylabel='count'>"
            ]
          },
          "metadata": {},
          "execution_count": 23
        },
        {
          "output_type": "display_data",
          "data": {
            "text/plain": [
              "<Figure size 1500x600 with 1 Axes>"
            ],
            "image/png": "[encoded data removed]"
          },
          "metadata": {}
        }
      ],
      "source": [
        "plt.figure(figsize=(15,6))\n",
        "sns.countplot(x=\"No. of Family members\",data=df1,hue=\"Do you think Electronic Vehicles are economical?\")"
      ]
    },
    {
      "cell_type": "code",
      "execution_count": 24,
      "id": "ad29eb78",
      "metadata": {
        "colab": {
          "base_uri": "https://localhost:8080/",
          "height": 558
        },
        "id": "ad29eb78",
        "outputId": "db08aec4-34e2-4d18-911f-b3a58d4faa4f"
      },
      "outputs": [
        {
          "output_type": "execute_result",
          "data": {
            "text/plain": [
              "<Axes: xlabel='No. of Family members', ylabel='count'>"
            ]
          },
          "metadata": {},
          "execution_count": 24
        },
        {
          "output_type": "display_data",
          "data": {
            "text/plain": [
              "<Figure size 1300x600 with 1 Axes>"
            ],
            "image/png": "[encoded data removed]"
          },
          "metadata": {}
        }
      ],
      "source": [
        "plt.figure(figsize=(13,6))\n",
        "sns.countplot(x=\"No. of Family members\",data=df1,hue=\"Preference for wheels in EV\")\n",
        ""
      ]
    },
    {
      "cell_type": "code",
      "execution_count": 25,
      "id": "1e9ff8db",
      "metadata": {
        "colab": {
          "base_uri": "https://localhost:8080/",
          "height": 492
        },
        "id": "1e9ff8db",
        "outputId": "93a18ad6-7088-41e6-ca38-5b14f6069bc4"
      },
      "outputs": [
        {
          "output_type": "execute_result",
          "data": {
            "text/plain": [
              "<Axes: xlabel='Which brand of vehicle do you currently own?', ylabel='count'>"
            ]
          },
          "metadata": {},
          "execution_count": 25
        },
        {
          "output_type": "display_data",
          "data": {
            "text/plain": [
              "<Figure size 1500x600 with 1 Axes>"
            ],
            "image/png": "[encoded data removed]"
          },
          "metadata": {}
        }
      ],
      "source": [
        "plt.figure(figsize=(15,6))\n",
        "sns.countplot(x=\"Which brand of vehicle do you currently own?\",data=df1,hue=\"Profession\")"
      ]
    },
    {
      "cell_type": "markdown",
      "id": "2bcd2aa5",
      "metadata": {
        "id": "2bcd2aa5"
      },
      "source": [
        "# Lets Observe Correlation between attributes\n"
      ]
    },
    {
      "cell_type": "code",
      "execution_count": 26,
      "id": "72ae1c06",
      "metadata": {
        "colab": {
          "base_uri": "https://localhost:8080/",
          "height": 640
        },
        "id": "72ae1c06",
        "outputId": "607acaf0-dc41-4966-948e-7896e222e485"
      },
      "outputs": [
        {
          "output_type": "stream",
          "name": "stderr",
          "text": [
            "<ipython-input-26-a8072edbd434>:4: FutureWarning: The default value of numeric_only in DataFrame.corr is deprecated. In a future version, it will default to False. Select only valid columns or specify the value of numeric_only to silence this warning.\n",
            "  corr = df1.corr()\n"
          ]
        },
        {
          "output_type": "execute_result",
          "data": {
            "text/plain": [
              "<Axes: >"
            ]
          },
          "metadata": {},
          "execution_count": 26
        },
        {
          "output_type": "display_data",
          "data": {
            "text/plain": [
              "<Figure size 700x400 with 2 Axes>"
            ],
            "image/png": "[encoded data removed]"
          },
          "metadata": {}
        }
      ],
      "source": [
        "sns.set_theme(style=\"darkgrid\")\n",
        "\n",
        "# Compute the correlation matrix\n",
        "corr = df1.corr()\n",
        "\n",
        "# Generate a mask for the upper triangle (otherwise this looks like the square we had above and is redundant)\n",
        "mask = np.triu(np.ones_like(corr, dtype=bool))\n",
        "\n",
        "# Set up the matplotlib figure\n",
        "f, ax = plt.subplots(figsize=(7, 4))\n",
        "\n",
        "# Generate a custom diverging colormap (choose colors here)\n",
        "cmap = sns.diverging_palette(230, 20, as_cmap=True)\n",
        "\n",
        "# Draw the heatmap with the mask and correct aspect ratio\n",
        "sns.heatmap(corr, mask=mask, cmap=cmap, center=0,\n",
        "            square=True, linewidths=.5, cbar_kws={\"shrink\": .5}, annot=True, annot_kws={\"fontsize\":8})"
      ]
    },
    {
      "cell_type": "markdown",
      "id": "c1c992c1",
      "metadata": {
        "id": "c1c992c1"
      },
      "source": [
        "# Order and Label Encoding"
      ]
    },
    {
      "cell_type": "code",
      "execution_count": 27,
      "id": "141952d0",
      "metadata": {
        "id": "141952d0"
      },
      "outputs": [],
      "source": [
        "from sklearn.preprocessing import OrdinalEncoder\n",
        "from sklearn.preprocessing import LabelEncoder\n",
        "def label_encoder(data,column):\n",
        "    label_encoder=LabelEncoder()\n",
        "    return label_encoder.fit_transform(data[column].astype(str))"
      ]
    },
    {
      "cell_type": "code",
      "execution_count": 28,
      "id": "5430e736",
      "metadata": {
        "id": "5430e736"
      },
      "outputs": [],
      "source": [
        "df1['City']= label_encoder(df1,'City')\n",
        "df1['Profession']= label_encoder(df1,'Profession')\n",
        "df1['Marital Status']= label_encoder(df1,'Marital Status')\n",
        "df1['Education']= label_encoder(df1,'Education')\n",
        "df1['Would you prefer replacing all your vehicles to Electronic vehicles?']= label_encoder(df1,'Would you prefer replacing all your vehicles to Electronic vehicles?')\n",
        "df1['If Yes/Maybe what type of  EV would you prefer?']= label_encoder(df1,'If Yes/Maybe what type of  EV would you prefer?')\n",
        "df1['Do you think Electronic Vehicles are economical?']= label_encoder(df1,'Do you think Electronic Vehicles are economical?')\n",
        "df1['Which brand of vehicle do you currently own?']= label_encoder(df1,'Which brand of vehicle do you currently own?')\n",
        "df1['Do you think Electronic vehicles will replace fuel cars in India?']= label_encoder(df1,'Do you think Electronic vehicles will replace fuel cars in India?')\n",
        "df1['How much money could you spend on an Electronic vehicle?']= label_encoder(df1,'How much money could you spend on an Electronic vehicle?')\n",
        ""
      ]
    },
    {
      "cell_type": "code",
      "execution_count": 29,
      "id": "fab8a65b",
      "metadata": {
        "colab": {
          "base_uri": "https://localhost:8080/",
          "height": 391
        },
        "id": "fab8a65b",
        "outputId": "1e836691-51cc-4aba-9b1d-2bddf1517f56"
      },
      "outputs": [
        {
          "output_type": "execute_result",
          "data": {
            "text/plain": [
              "   Age  City  Profession  Marital Status  Education  No. of Family members  \\\n",
              "0   30    13           1               1          0                      5   \n",
              "1   27    20           1               1          0                      4   \n",
              "2   32    11           1               1          0                      4   \n",
              "3   55    20           0               1          0                      3   \n",
              "4   26    22           1               1          0                      4   \n",
              "\n",
              "   Annual Income  \\\n",
              "0   1.193876e+06   \n",
              "1   1.844540e+06   \n",
              "2   2.948150e+06   \n",
              "3   2.832380e+06   \n",
              "4   2.638751e+06   \n",
              "\n",
              "   Would you prefer replacing all your vehicles to Electronic vehicles?  \\\n",
              "0                                                  0                      \n",
              "1                                                  2                      \n",
              "2                                                  2                      \n",
              "3                                                  0                      \n",
              "4                                                  2                      \n",
              "\n",
              "   If Yes/Maybe what type of  EV would you prefer?  \\\n",
              "0                                                3   \n",
              "1                                                3   \n",
              "2                                                1   \n",
              "3                                                1   \n",
              "4                                                4   \n",
              "\n",
              "   Do you think Electronic Vehicles are economical?  \\\n",
              "0                                                 2   \n",
              "1                                                 2   \n",
              "2                                                 2   \n",
              "3                                                 1   \n",
              "4                                                 2   \n",
              "\n",
              "   Which brand of vehicle do you currently own?  \\\n",
              "0                                             4   \n",
              "1                                             3   \n",
              "2                                             5   \n",
              "3                                             4   \n",
              "4                                            10   \n",
              "\n",
              "   How much money could you spend on an Electronic vehicle?  \\\n",
              "0                                                  6          \n",
              "1                                                  4          \n",
              "2                                                  4          \n",
              "3                                                  6          \n",
              "4                                                  4          \n",
              "\n",
              "   Preference for wheels in EV  \\\n",
              "0                            2   \n",
              "1                            4   \n",
              "2                            4   \n",
              "3                            4   \n",
              "4                            4   \n",
              "\n",
              "   Do you think Electronic vehicles will replace fuel cars in India?  \n",
              "0                                                  0                  \n",
              "1                                                  2                  \n",
              "2                                                  2                  \n",
              "3                                                  1                  \n",
              "4                                                  2                  "
            ],
            "text/html": [
              "\n",
              "\n",
              "  <div id=\"df-41720c11-8b20-462b-80fb-114667710579\">\n",
              "    <div class=\"colab-df-container\">\n",
              "      <div>\n",
              "<style scoped>\n",
              "    .dataframe tbody tr th:only-of-type {\n",
              "        vertical-align: middle;\n",
              "    }\n",
              "\n",
              "    .dataframe tbody tr th {\n",
              "        vertical-align: top;\n",
              "    }\n",
              "\n",
              "    .dataframe thead th {\n",
              "        text-align: right;\n",
              "    }\n",
              "</style>\n",
              "<table border=\"1\" class=\"dataframe\">\n",
              "  <thead>\n",
              "    <tr style=\"text-align: right;\">\n",
              "      <th></th>\n",
              "      <th>Age</th>\n",
              "      <th>City</th>\n",
              "      <th>Profession</th>\n",
              "      <th>Marital Status</th>\n",
              "      <th>Education</th>\n",
              "      <th>No. of Family members</th>\n",
              "      <th>Annual Income</th>\n",
              "      <th>Would you prefer replacing all your vehicles to Electronic vehicles?</th>\n",
              "      <th>If Yes/Maybe what type of  EV would you prefer?</th>\n",
              "      <th>Do you think Electronic Vehicles are economical?</th>\n",
              "      <th>Which brand of vehicle do you currently own?</th>\n",
              "      <th>How much money could you spend on an Electronic vehicle?</th>\n",
              "      <th>Preference for wheels in EV</th>\n",
              "      <th>Do you think Electronic vehicles will replace fuel cars in India?</th>\n",
              "    </tr>\n",
              "  </thead>\n",
              "  <tbody>\n",
              "    <tr>\n",
              "      <th>0</th>\n",
              "      <td>30</td>\n",
              "      <td>13</td>\n",
              "      <td>1</td>\n",
              "      <td>1</td>\n",
              "      <td>0</td>\n",
              "      <td>5</td>\n",
              "      <td>1.193876e+06</td>\n",
              "      <td>0</td>\n",
              "      <td>3</td>\n",
              "      <td>2</td>\n",
              "      <td>4</td>\n",
              "      <td>6</td>\n",
              "      <td>2</td>\n",
              "      <td>0</td>\n",
              "    </tr>\n",
              "    <tr>\n",
              "      <th>1</th>\n",
              "      <td>27</td>\n",
              "      <td>20</td>\n",
              "      <td>1</td>\n",
              "      <td>1</td>\n",
              "      <td>0</td>\n",
              "      <td>4</td>\n",
              "      <td>1.844540e+06</td>\n",
              "      <td>2</td>\n",
              "      <td>3</td>\n",
              "      <td>2</td>\n",
              "      <td>3</td>\n",
              "      <td>4</td>\n",
              "      <td>4</td>\n",
              "      <td>2</td>\n",
              "    </tr>\n",
              "    <tr>\n",
              "      <th>2</th>\n",
              "      <td>32</td>\n",
              "      <td>11</td>\n",
              "      <td>1</td>\n",
              "      <td>1</td>\n",
              "      <td>0</td>\n",
              "      <td>4</td>\n",
              "      <td>2.948150e+06</td>\n",
              "      <td>2</td>\n",
              "      <td>1</td>\n",
              "      <td>2</td>\n",
              "      <td>5</td>\n",
              "      <td>4</td>\n",
              "      <td>4</td>\n",
              "      <td>2</td>\n",
              "    </tr>\n",
              "    <tr>\n",
              "      <th>3</th>\n",
              "      <td>55</td>\n",
              "      <td>20</td>\n",
              "      <td>0</td>\n",
              "      <td>1</td>\n",
              "      <td>0</td>\n",
              "      <td>3</td>\n",
              "      <td>2.832380e+06</td>\n",
              "      <td>0</td>\n",
              "      <td>1</td>\n",
              "      <td>1</td>\n",
              "      <td>4</td>\n",
              "      <td>6</td>\n",
              "      <td>4</td>\n",
              "      <td>1</td>\n",
              "    </tr>\n",
              "    <tr>\n",
              "      <th>4</th>\n",
              "      <td>26</td>\n",
              "      <td>22</td>\n",
              "      <td>1</td>\n",
              "      <td>1</td>\n",
              "      <td>0</td>\n",
              "      <td>4</td>\n",
              "      <td>2.638751e+06</td>\n",
              "      <td>2</td>\n",
              "      <td>4</td>\n",
              "      <td>2</td>\n",
              "      <td>10</td>\n",
              "      <td>4</td>\n",
              "      <td>4</td>\n",
              "      <td>2</td>\n",
              "    </tr>\n",
              "  </tbody>\n",
              "</table>\n",
              "</div>\n",
              "      <button class=\"colab-df-convert\" onclick=\"convertToInteractive('df-41720c11-8b20-462b-80fb-114667710579')\"\n",
              "              title=\"Convert this dataframe to an interactive table.\"\n",
              "              style=\"display:none;\">\n",
              "\n",
              "  <svg xmlns=\"http://www.w3.org/2000/svg\" height=\"24px\"viewBox=\"0 0 24 24\"\n",
              "       width=\"24px\">\n",
              "    <path d=\"M0 0h24v24H0V0z\" fill=\"none\"/>\n",
              "    <path d=\"M18.56 5.44l.94 2.06.94-2.06 2.06-.94-2.06-.94-.94-2.06-.94 2.06-2.06.94zm-11 1L8.5 8.5l.94-2.06 2.06-.94-2.06-.94L8.5 2.5l-.94 2.06-2.06.94zm10 10l.94 2.06.94-2.06 2.06-.94-2.06-.94-.94-2.06-.94 2.06-2.06.94z\"/><path d=\"M17.41 7.96l-1.37-1.37c-.4-.4-.92-.59-1.43-.59-.52 0-1.04.2-1.43.59L10.3 9.45l-7.72 7.72c-.78.78-.78 2.05 0 2.83L4 21.41c.39.39.9.59 1.41.59.51 0 1.02-.2 1.41-.59l7.78-7.78 2.81-2.81c.8-.78.8-2.07 0-2.86zM5.41 20L4 18.59l7.72-7.72 1.47 1.35L5.41 20z\"/>\n",
              "  </svg>\n",
              "      </button>\n",
              "\n",
              "\n",
              "\n",
              "    <div id=\"df-91b2abca-36c1-4a8d-92f0-c6ce78d908be\">\n",
              "      <button class=\"colab-df-quickchart\" onclick=\"quickchart('df-91b2abca-36c1-4a8d-92f0-c6ce78d908be')\"\n",
              "              title=\"Suggest charts.\"\n",
              "              style=\"display:none;\">\n",
              "\n",
              "<svg xmlns=\"http://www.w3.org/2000/svg\" height=\"24px\"viewBox=\"0 0 24 24\"\n",
              "     width=\"24px\">\n",
              "    <g>\n",
              "        <path d=\"M19 3H5c-1.1 0-2 .9-2 2v14c0 1.1.9 2 2 2h14c1.1 0 2-.9 2-2V5c0-1.1-.9-2-2-2zM9 17H7v-7h2v7zm4 0h-2V7h2v10zm4 0h-2v-4h2v4z\"/>\n",
              "    </g>\n",
              "</svg>\n",
              "      </button>\n",
              "    </div>\n",
              "\n",
              "<style>\n",
              "  .colab-df-quickchart {\n",
              "    background-color: #E8F0FE;\n",
              "    border: none;\n",
              "    border-radius: 50%;\n",
              "    cursor: pointer;\n",
              "    display: none;\n",
              "    fill: #1967D2;\n",
              "    height: 32px;\n",
              "    padding: 0 0 0 0;\n",
              "    width: 32px;\n",
              "  }\n",
              "\n",
              "  .colab-df-quickchart:hover {\n",
              "    background-color: #E2EBFA;\n",
              "    box-shadow: 0px 1px 2px rgba(60, 64, 67, 0.3), 0px 1px 3px 1px rgba(60, 64, 67, 0.15);\n",
              "    fill: #174EA6;\n",
              "  }\n",
              "\n",
              "  [theme=dark] .colab-df-quickchart {\n",
              "    background-color: #3B4455;\n",
              "    fill: #D2E3FC;\n",
              "  }\n",
              "\n",
              "  [theme=dark] .colab-df-quickchart:hover {\n",
              "    background-color: #434B5C;\n",
              "    box-shadow: 0px 1px 3px 1px rgba(0, 0, 0, 0.15);\n",
              "    filter: drop-shadow(0px 1px 2px rgba(0, 0, 0, 0.3));\n",
              "    fill: #FFFFFF;\n",
              "  }\n",
              "</style>\n",
              "\n",
              "    <script>\n",
              "      async function quickchart(key) {\n",
              "        const containerElement = document.querySelector('#' + key);\n",
              "        const charts = await google.colab.kernel.invokeFunction(\n",
              "            'suggestCharts', [key], {});\n",
              "      }\n",
              "    </script>\n",
              "\n",
              "      <script>\n",
              "\n",
              "function displayQuickchartButton(domScope) {\n",
              "  let quickchartButtonEl =\n",
              "    domScope.querySelector('#df-91b2abca-36c1-4a8d-92f0-c6ce78d908be button.colab-df-quickchart');\n",
              "  quickchartButtonEl.style.display =\n",
              "    google.colab.kernel.accessAllowed ? 'block' : 'none';\n",
              "}\n",
              "\n",
              "        displayQuickchartButton(document);\n",
              "      </script>\n",
              "      <style>\n",
              "    .colab-df-container {\n",
              "      display:flex;\n",
              "      flex-wrap:wrap;\n",
              "      gap: 12px;\n",
              "    }\n",
              "\n",
              "    .colab-df-convert {\n",
              "      background-color: #E8F0FE;\n",
              "      border: none;\n",
              "      border-radius: 50%;\n",
              "      cursor: pointer;\n",
              "      display: none;\n",
              "      fill: #1967D2;\n",
              "      height: 32px;\n",
              "      padding: 0 0 0 0;\n",
              "      width: 32px;\n",
              "    }\n",
              "\n",
              "    .colab-df-convert:hover {\n",
              "      background-color: #E2EBFA;\n",
              "      box-shadow: 0px 1px 2px rgba(60, 64, 67, 0.3), 0px 1px 3px 1px rgba(60, 64, 67, 0.15);\n",
              "      fill: #174EA6;\n",
              "    }\n",
              "\n",
              "    [theme=dark] .colab-df-convert {\n",
              "      background-color: #3B4455;\n",
              "      fill: #D2E3FC;\n",
              "    }\n",
              "\n",
              "    [theme=dark] .colab-df-convert:hover {\n",
              "      background-color: #434B5C;\n",
              "      box-shadow: 0px 1px 3px 1px rgba(0, 0, 0, 0.15);\n",
              "      filter: drop-shadow(0px 1px 2px rgba(0, 0, 0, 0.3));\n",
              "      fill: #FFFFFF;\n",
              "    }\n",
              "  </style>\n",
              "\n",
              "      <script>\n",
              "        const buttonEl =\n",
              "          document.querySelector('#df-41720c11-8b20-462b-80fb-114667710579 button.colab-df-convert');\n",
              "        buttonEl.style.display =\n",
              "          google.colab.kernel.accessAllowed ? 'block' : 'none';\n",
              "\n",
              "        async function convertToInteractive(key) {\n",
              "          const element = document.querySelector('#df-41720c11-8b20-462b-80fb-114667710579');\n",
              "          const dataTable =\n",
              "            await google.colab.kernel.invokeFunction('convertToInteractive',\n",
              "                                                     [key], {});\n",
              "          if (!dataTable) return;\n",
              "\n",
              "          const docLinkHtml = 'Like what you see? Visit the ' +\n",
              "            '<a target=\"_blank\" href=https://colab.research.google.com/notebooks/data_table.ipynb>data table notebook</a>'\n",
              "            + ' to learn more about interactive tables.';\n",
              "          element.innerHTML = '';\n",
              "          dataTable['output_type'] = 'display_data';\n",
              "          await google.colab.output.renderOutput(dataTable, element);\n",
              "          const docLink = document.createElement('div');\n",
              "          docLink.innerHTML = docLinkHtml;\n",
              "          element.appendChild(docLink);\n",
              "        }\n",
              "      </script>\n",
              "    </div>\n",
              "  </div>\n"
            ]
          },
          "metadata": {},
          "execution_count": 29
        }
      ],
      "source": [
        "df1.head()"
      ]
    },
    {
      "cell_type": "markdown",
      "id": "44e16f00",
      "metadata": {
        "id": "44e16f00"
      },
      "source": [
        "# Implement the PCA\n"
      ]
    },
    {
      "cell_type": "code",
      "execution_count": 30,
      "id": "1fe86a10",
      "metadata": {
        "id": "1fe86a10"
      },
      "outputs": [],
      "source": [
        "from sklearn.preprocessing import StandardScaler\n",
        "from sklearn.decomposition import PCA"
      ]
    },
    {
      "cell_type": "code",
      "execution_count": 31,
      "id": "236cce2f",
      "metadata": {
        "id": "236cce2f"
      },
      "outputs": [],
      "source": [
        "data=df1.copy()"
      ]
    },
    {
      "cell_type": "code",
      "execution_count": 32,
      "id": "c33e72fb",
      "metadata": {
        "colab": {
          "base_uri": "https://localhost:8080/",
          "height": 391
        },
        "id": "c33e72fb",
        "outputId": "46dcd7d6-2a73-45fc-a558-a7bba3e5065d"
      },
      "outputs": [
        {
          "output_type": "execute_result",
          "data": {
            "text/plain": [
              "   Age  City  Profession  Marital Status  Education  No. of Family members  \\\n",
              "0   30    13           1               1          0                      5   \n",
              "1   27    20           1               1          0                      4   \n",
              "2   32    11           1               1          0                      4   \n",
              "3   55    20           0               1          0                      3   \n",
              "4   26    22           1               1          0                      4   \n",
              "\n",
              "   Annual Income  \\\n",
              "0   1.193876e+06   \n",
              "1   1.844540e+06   \n",
              "2   2.948150e+06   \n",
              "3   2.832380e+06   \n",
              "4   2.638751e+06   \n",
              "\n",
              "   Would you prefer replacing all your vehicles to Electronic vehicles?  \\\n",
              "0                                                  0                      \n",
              "1                                                  2                      \n",
              "2                                                  2                      \n",
              "3                                                  0                      \n",
              "4                                                  2                      \n",
              "\n",
              "   If Yes/Maybe what type of  EV would you prefer?  \\\n",
              "0                                                3   \n",
              "1                                                3   \n",
              "2                                                1   \n",
              "3                                                1   \n",
              "4                                                4   \n",
              "\n",
              "   Do you think Electronic Vehicles are economical?  \\\n",
              "0                                                 2   \n",
              "1                                                 2   \n",
              "2                                                 2   \n",
              "3                                                 1   \n",
              "4                                                 2   \n",
              "\n",
              "   Which brand of vehicle do you currently own?  \\\n",
              "0                                             4   \n",
              "1                                             3   \n",
              "2                                             5   \n",
              "3                                             4   \n",
              "4                                            10   \n",
              "\n",
              "   How much money could you spend on an Electronic vehicle?  \\\n",
              "0                                                  6          \n",
              "1                                                  4          \n",
              "2                                                  4          \n",
              "3                                                  6          \n",
              "4                                                  4          \n",
              "\n",
              "   Preference for wheels in EV  \\\n",
              "0                            2   \n",
              "1                            4   \n",
              "2                            4   \n",
              "3                            4   \n",
              "4                            4   \n",
              "\n",
              "   Do you think Electronic vehicles will replace fuel cars in India?  \n",
              "0                                                  0                  \n",
              "1                                                  2                  \n",
              "2                                                  2                  \n",
              "3                                                  1                  \n",
              "4                                                  2                  "
            ],
            "text/html": [
              "\n",
              "\n",
              "  <div id=\"df-6e7b4091-d1ae-4d50-b491-19fbe5ba6883\">\n",
              "    <div class=\"colab-df-container\">\n",
              "      <div>\n",
              "<style scoped>\n",
              "    .dataframe tbody tr th:only-of-type {\n",
              "        vertical-align: middle;\n",
              "    }\n",
              "\n",
              "    .dataframe tbody tr th {\n",
              "        vertical-align: top;\n",
              "    }\n",
              "\n",
              "    .dataframe thead th {\n",
              "        text-align: right;\n",
              "    }\n",
              "</style>\n",
              "<table border=\"1\" class=\"dataframe\">\n",
              "  <thead>\n",
              "    <tr style=\"text-align: right;\">\n",
              "      <th></th>\n",
              "      <th>Age</th>\n",
              "      <th>City</th>\n",
              "      <th>Profession</th>\n",
              "      <th>Marital Status</th>\n",
              "      <th>Education</th>\n",
              "      <th>No. of Family members</th>\n",
              "      <th>Annual Income</th>\n",
              "      <th>Would you prefer replacing all your vehicles to Electronic vehicles?</th>\n",
              "      <th>If Yes/Maybe what type of  EV would you prefer?</th>\n",
              "      <th>Do you think Electronic Vehicles are economical?</th>\n",
              "      <th>Which brand of vehicle do you currently own?</th>\n",
              "      <th>How much money could you spend on an Electronic vehicle?</th>\n",
              "      <th>Preference for wheels in EV</th>\n",
              "      <th>Do you think Electronic vehicles will replace fuel cars in India?</th>\n",
              "    </tr>\n",
              "  </thead>\n",
              "  <tbody>\n",
              "    <tr>\n",
              "      <th>0</th>\n",
              "      <td>30</td>\n",
              "      <td>13</td>\n",
              "      <td>1</td>\n",
              "      <td>1</td>\n",
              "      <td>0</td>\n",
              "      <td>5</td>\n",
              "      <td>1.193876e+06</td>\n",
              "      <td>0</td>\n",
              "      <td>3</td>\n",
              "      <td>2</td>\n",
              "      <td>4</td>\n",
              "      <td>6</td>\n",
              "      <td>2</td>\n",
              "      <td>0</td>\n",
              "    </tr>\n",
              "    <tr>\n",
              "      <th>1</th>\n",
              "      <td>27</td>\n",
              "      <td>20</td>\n",
              "      <td>1</td>\n",
              "      <td>1</td>\n",
              "      <td>0</td>\n",
              "      <td>4</td>\n",
              "      <td>1.844540e+06</td>\n",
              "      <td>2</td>\n",
              "      <td>3</td>\n",
              "      <td>2</td>\n",
              "      <td>3</td>\n",
              "      <td>4</td>\n",
              "      <td>4</td>\n",
              "      <td>2</td>\n",
              "    </tr>\n",
              "    <tr>\n",
              "      <th>2</th>\n",
              "      <td>32</td>\n",
              "      <td>11</td>\n",
              "      <td>1</td>\n",
              "      <td>1</td>\n",
              "      <td>0</td>\n",
              "      <td>4</td>\n",
              "      <td>2.948150e+06</td>\n",
              "      <td>2</td>\n",
              "      <td>1</td>\n",
              "      <td>2</td>\n",
              "      <td>5</td>\n",
              "      <td>4</td>\n",
              "      <td>4</td>\n",
              "      <td>2</td>\n",
              "    </tr>\n",
              "    <tr>\n",
              "      <th>3</th>\n",
              "      <td>55</td>\n",
              "      <td>20</td>\n",
              "      <td>0</td>\n",
              "      <td>1</td>\n",
              "      <td>0</td>\n",
              "      <td>3</td>\n",
              "      <td>2.832380e+06</td>\n",
              "      <td>0</td>\n",
              "      <td>1</td>\n",
              "      <td>1</td>\n",
              "      <td>4</td>\n",
              "      <td>6</td>\n",
              "      <td>4</td>\n",
              "      <td>1</td>\n",
              "    </tr>\n",
              "    <tr>\n",
              "      <th>4</th>\n",
              "      <td>26</td>\n",
              "      <td>22</td>\n",
              "      <td>1</td>\n",
              "      <td>1</td>\n",
              "      <td>0</td>\n",
              "      <td>4</td>\n",
              "      <td>2.638751e+06</td>\n",
              "      <td>2</td>\n",
              "      <td>4</td>\n",
              "      <td>2</td>\n",
              "      <td>10</td>\n",
              "      <td>4</td>\n",
              "      <td>4</td>\n",
              "      <td>2</td>\n",
              "    </tr>\n",
              "  </tbody>\n",
              "</table>\n",
              "</div>\n",
              "      <button class=\"colab-df-convert\" onclick=\"convertToInteractive('df-6e7b4091-d1ae-4d50-b491-19fbe5ba6883')\"\n",
              "              title=\"Convert this dataframe to an interactive table.\"\n",
              "              style=\"display:none;\">\n",
              "\n",
              "  <svg xmlns=\"http://www.w3.org/2000/svg\" height=\"24px\"viewBox=\"0 0 24 24\"\n",
              "       width=\"24px\">\n",
              "    <path d=\"M0 0h24v24H0V0z\" fill=\"none\"/>\n",
              "    <path d=\"M18.56 5.44l.94 2.06.94-2.06 2.06-.94-2.06-.94-.94-2.06-.94 2.06-2.06.94zm-11 1L8.5 8.5l.94-2.06 2.06-.94-2.06-.94L8.5 2.5l-.94 2.06-2.06.94zm10 10l.94 2.06.94-2.06 2.06-.94-2.06-.94-.94-2.06-.94 2.06-2.06.94z\"/><path d=\"M17.41 7.96l-1.37-1.37c-.4-.4-.92-.59-1.43-.59-.52 0-1.04.2-1.43.59L10.3 9.45l-7.72 7.72c-.78.78-.78 2.05 0 2.83L4 21.41c.39.39.9.59 1.41.59.51 0 1.02-.2 1.41-.59l7.78-7.78 2.81-2.81c.8-.78.8-2.07 0-2.86zM5.41 20L4 18.59l7.72-7.72 1.47 1.35L5.41 20z\"/>\n",
              "  </svg>\n",
              "      </button>\n",
              "\n",
              "\n",
              "\n",
              "    <div id=\"df-1fc0eff4-c718-4271-b8b8-fa0c31a2ca62\">\n",
              "      <button class=\"colab-df-quickchart\" onclick=\"quickchart('df-1fc0eff4-c718-4271-b8b8-fa0c31a2ca62')\"\n",
              "              title=\"Suggest charts.\"\n",
              "              style=\"display:none;\">\n",
              "\n",
              "<svg xmlns=\"http://www.w3.org/2000/svg\" height=\"24px\"viewBox=\"0 0 24 24\"\n",
              "     width=\"24px\">\n",
              "    <g>\n",
              "        <path d=\"M19 3H5c-1.1 0-2 .9-2 2v14c0 1.1.9 2 2 2h14c1.1 0 2-.9 2-2V5c0-1.1-.9-2-2-2zM9 17H7v-7h2v7zm4 0h-2V7h2v10zm4 0h-2v-4h2v4z\"/>\n",
              "    </g>\n",
              "</svg>\n",
              "      </button>\n",
              "    </div>\n",
              "\n",
              "<style>\n",
              "  .colab-df-quickchart {\n",
              "    background-color: #E8F0FE;\n",
              "    border: none;\n",
              "    border-radius: 50%;\n",
              "    cursor: pointer;\n",
              "    display: none;\n",
              "    fill: #1967D2;\n",
              "    height: 32px;\n",
              "    padding: 0 0 0 0;\n",
              "    width: 32px;\n",
              "  }\n",
              "\n",
              "  .colab-df-quickchart:hover {\n",
              "    background-color: #E2EBFA;\n",
              "    box-shadow: 0px 1px 2px rgba(60, 64, 67, 0.3), 0px 1px 3px 1px rgba(60, 64, 67, 0.15);\n",
              "    fill: #174EA6;\n",
              "  }\n",
              "\n",
              "  [theme=dark] .colab-df-quickchart {\n",
              "    background-color: #3B4455;\n",
              "    fill: #D2E3FC;\n",
              "  }\n",
              "\n",
              "  [theme=dark] .colab-df-quickchart:hover {\n",
              "    background-color: #434B5C;\n",
              "    box-shadow: 0px 1px 3px 1px rgba(0, 0, 0, 0.15);\n",
              "    filter: drop-shadow(0px 1px 2px rgba(0, 0, 0, 0.3));\n",
              "    fill: #FFFFFF;\n",
              "  }\n",
              "</style>\n",
              "\n",
              "    <script>\n",
              "      async function quickchart(key) {\n",
              "        const containerElement = document.querySelector('#' + key);\n",
              "        const charts = await google.colab.kernel.invokeFunction(\n",
              "            'suggestCharts', [key], {});\n",
              "      }\n",
              "    </script>\n",
              "\n",
              "      <script>\n",
              "\n",
              "function displayQuickchartButton(domScope) {\n",
              "  let quickchartButtonEl =\n",
              "    domScope.querySelector('#df-1fc0eff4-c718-4271-b8b8-fa0c31a2ca62 button.colab-df-quickchart');\n",
              "  quickchartButtonEl.style.display =\n",
              "    google.colab.kernel.accessAllowed ? 'block' : 'none';\n",
              "}\n",
              "\n",
              "        displayQuickchartButton(document);\n",
              "      </script>\n",
              "      <style>\n",
              "    .colab-df-container {\n",
              "      display:flex;\n",
              "      flex-wrap:wrap;\n",
              "      gap: 12px;\n",
              "    }\n",
              "\n",
              "    .colab-df-convert {\n",
              "      background-color: #E8F0FE;\n",
              "      border: none;\n",
              "      border-radius: 50%;\n",
              "      cursor: pointer;\n",
              "      display: none;\n",
              "      fill: #1967D2;\n",
              "      height: 32px;\n",
              "      padding: 0 0 0 0;\n",
              "      width: 32px;\n",
              "    }\n",
              "\n",
              "    .colab-df-convert:hover {\n",
              "      background-color: #E2EBFA;\n",
              "      box-shadow: 0px 1px 2px rgba(60, 64, 67, 0.3), 0px 1px 3px 1px rgba(60, 64, 67, 0.15);\n",
              "      fill: #174EA6;\n",
              "    }\n",
              "\n",
              "    [theme=dark] .colab-df-convert {\n",
              "      background-color: #3B4455;\n",
              "      fill: #D2E3FC;\n",
              "    }\n",
              "\n",
              "    [theme=dark] .colab-df-convert:hover {\n",
              "      background-color: #434B5C;\n",
              "      box-shadow: 0px 1px 3px 1px rgba(0, 0, 0, 0.15);\n",
              "      filter: drop-shadow(0px 1px 2px rgba(0, 0, 0, 0.3));\n",
              "      fill: #FFFFFF;\n",
              "    }\n",
              "  </style>\n",
              "\n",
              "      <script>\n",
              "        const buttonEl =\n",
              "          document.querySelector('#df-6e7b4091-d1ae-4d50-b491-19fbe5ba6883 button.colab-df-convert');\n",
              "        buttonEl.style.display =\n",
              "          google.colab.kernel.accessAllowed ? 'block' : 'none';\n",
              "\n",
              "        async function convertToInteractive(key) {\n",
              "          const element = document.querySelector('#df-6e7b4091-d1ae-4d50-b491-19fbe5ba6883');\n",
              "          const dataTable =\n",
              "            await google.colab.kernel.invokeFunction('convertToInteractive',\n",
              "                                                     [key], {});\n",
              "          if (!dataTable) return;\n",
              "\n",
              "          const docLinkHtml = 'Like what you see? Visit the ' +\n",
              "            '<a target=\"_blank\" href=https://colab.research.google.com/notebooks/data_table.ipynb>data table notebook</a>'\n",
              "            + ' to learn more about interactive tables.';\n",
              "          element.innerHTML = '';\n",
              "          dataTable['output_type'] = 'display_data';\n",
              "          await google.colab.output.renderOutput(dataTable, element);\n",
              "          const docLink = document.createElement('div');\n",
              "          docLink.innerHTML = docLinkHtml;\n",
              "          element.appendChild(docLink);\n",
              "        }\n",
              "      </script>\n",
              "    </div>\n",
              "  </div>\n"
            ]
          },
          "metadata": {},
          "execution_count": 32
        }
      ],
      "source": [
        "data.head()"
      ]
    },
    {
      "cell_type": "code",
      "execution_count": 33,
      "id": "b7a1b87b",
      "metadata": {
        "colab": {
          "base_uri": "https://localhost:8080/"
        },
        "id": "b7a1b87b",
        "outputId": "86ea833b-3390-4bce-e729-51cfcecba47f"
      },
      "outputs": [
        {
          "output_type": "execute_result",
          "data": {
            "text/plain": [
              "(1000, 14)"
            ]
          },
          "metadata": {},
          "execution_count": 33
        }
      ],
      "source": [
        "scaler = StandardScaler()  #creating the instance of class StandardScaler()\n",
        "df_re_nonull_std = scaler.fit_transform(data)    #standardizing the data\n",
        "\n",
        "df_re_nonull_std.shape"
      ]
    },
    {
      "cell_type": "code",
      "execution_count": 34,
      "id": "34af5723",
      "metadata": {
        "colab": {
          "base_uri": "https://localhost:8080/"
        },
        "id": "34af5723",
        "outputId": "bc7db5a9-7bdf-422d-c0d3-90d1eb7d1a26"
      },
      "outputs": [
        {
          "output_type": "execute_result",
          "data": {
            "text/plain": [
              "array([[-2.17408153, -1.1100224 ,  0.0270743 , ..., -0.49379788,\n",
              "         0.31979991, -0.11915664],\n",
              "       [-0.21166691, -0.56369508,  0.17620032, ..., -0.80407692,\n",
              "        -0.35372126,  0.66169274],\n",
              "       [-0.54592976,  0.83144027,  0.29384334, ..., -0.15420079,\n",
              "        -0.84506772,  0.48789339],\n",
              "       ...,\n",
              "       [-0.54609894,  0.28228015,  0.62090619, ..., -1.06018687,\n",
              "        -0.43730904,  0.7803745 ],\n",
              "       [-0.13219961,  0.97879183,  0.14693272, ...,  0.13505963,\n",
              "        -0.81783553, -0.90899985],\n",
              "       [-0.79878698, -0.01902207, -0.05247042, ..., -1.80694166,\n",
              "        -1.1108108 ,  0.35410049]])"
            ]
          },
          "metadata": {},
          "execution_count": 34
        }
      ],
      "source": [
        "pca = PCA()    #creating the instance of class PCA\n",
        "pca.fit_transform(df_re_nonull_std)    # creating the pricipal component with 14 component as we are not passing any argument in PCA()"
      ]
    },
    {
      "cell_type": "code",
      "execution_count": 35,
      "id": "96695931",
      "metadata": {
        "colab": {
          "base_uri": "https://localhost:8080/"
        },
        "id": "96695931",
        "outputId": "476093c1-f116-4929-b72b-3ebabb14d399"
      },
      "outputs": [
        {
          "output_type": "execute_result",
          "data": {
            "text/plain": [
              "array([0.08550678, 0.08176578, 0.07887437, 0.07656827, 0.07504033,\n",
              "       0.0727662 , 0.07123938, 0.07092723, 0.06768923, 0.06664602,\n",
              "       0.06457744, 0.06396107, 0.0632045 , 0.06123339])"
            ]
          },
          "metadata": {},
          "execution_count": 35
        }
      ],
      "source": [
        "pca.explained_variance_ratio_ #it will tell the variance captured by all the pricipal component"
      ]
    },
    {
      "cell_type": "code",
      "execution_count": 36,
      "id": "20d24928",
      "metadata": {
        "colab": {
          "base_uri": "https://localhost:8080/",
          "height": 881
        },
        "id": "20d24928",
        "outputId": "32139fdf-fac5-49c9-e467-adda09da8524"
      },
      "outputs": [
        {
          "output_type": "display_data",
          "data": {
            "text/plain": [
              "<Figure size 1100x1000 with 1 Axes>"
            ],
            "image/png": "[encoded data removed]"
          },
          "metadata": {}
        }
      ],
      "source": [
        "plt.figure(figsize = (11,10))\n",
        "components = ['C1','C2','C3','C4','C5','C6','7','C8','C9','C10','C11','C12','C13','C14']\n",
        "var_exp = pca.explained_variance_ratio_\n",
        "plt.bar(components, var_exp)\n",
        "plt.title('Explained variance by principal components')\n",
        "plt.xlabel('Principal components')\n",
        "plt.ylabel('Explained variance ratio')\n",
        "plt.show()"
      ]
    },
    {
      "cell_type": "code",
      "execution_count": 37,
      "id": "ce5f30ec",
      "metadata": {
        "colab": {
          "base_uri": "https://localhost:8080/",
          "height": 573
        },
        "id": "ce5f30ec",
        "outputId": "678aa990-9d15-46ff-e80e-9a464cd9a547"
      },
      "outputs": [
        {
          "output_type": "display_data",
          "data": {
            "text/plain": [
              "<Figure size 1000x600 with 1 Axes>"
            ],
            "image/png": "[encoded data removed]"
          },
          "metadata": {}
        }
      ],
      "source": [
        "plt.figure(figsize=(10,6))\n",
        "plt.plot(range(1,15),pca.explained_variance_ratio_.cumsum(),marker='o', linestyle='--')\n",
        "plt.title('Explained variance by components')\n",
        "plt.xlabel('Number of components')\n",
        "plt.ylabel('Cumulative explained variance')\n",
        "plt.show()"
      ]
    },
    {
      "cell_type": "code",
      "execution_count": 38,
      "id": "5741a3a6",
      "metadata": {
        "id": "5741a3a6"
      },
      "outputs": [],
      "source": [
        "pca = PCA(n_components=10)"
      ]
    },
    {
      "cell_type": "code",
      "execution_count": 39,
      "id": "3d273601",
      "metadata": {
        "colab": {
          "base_uri": "https://localhost:8080/",
          "height": 74
        },
        "id": "3d273601",
        "outputId": "17a78021-ed57-4394-e292-4d8302e4ed4c"
      },
      "outputs": [
        {
          "output_type": "execute_result",
          "data": {
            "text/plain": [
              "PCA(n_components=10)"
            ],
            "text/html": [
              "<style>#sk-container-id-1 {color: black;background-color: white;}#sk-container-id-1 pre{padding: 0;}#sk-container-id-1 div.sk-toggleable {background-color: white;}#sk-container-id-1 label.sk-toggleable__label {cursor: pointer;display: block;width: 100%;margin-bottom: 0;padding: 0.3em;box-sizing: border-box;text-align: center;}#sk-container-id-1 label.sk-toggleable__label-arrow:before {content: \"▸\";float: left;margin-right: 0.25em;color: #696969;}#sk-container-id-1 label.sk-toggleable__label-arrow:hover:before {color: black;}#sk-container-id-1 div.sk-estimator:hover label.sk-toggleable__label-arrow:before {color: black;}#sk-container-id-1 div.sk-toggleable__content {max-height: 0;max-width: 0;overflow: hidden;text-align: left;background-color: #f0f8ff;}#sk-container-id-1 div.sk-toggleable__content pre {margin: 0.2em;color: black;border-radius: 0.25em;background-color: #f0f8ff;}#sk-container-id-1 input.sk-toggleable__control:checked~div.sk-toggleable__content {max-height: 200px;max-width: 100%;overflow: auto;}#sk-container-id-1 input.sk-toggleable__control:checked~label.sk-toggleable__label-arrow:before {content: \"▾\";}#sk-container-id-1 div.sk-estimator input.sk-toggleable__control:checked~label.sk-toggleable__label {background-color: #d4ebff;}#sk-container-id-1 div.sk-label input.sk-toggleable__control:checked~label.sk-toggleable__label {background-color: #d4ebff;}#sk-container-id-1 input.sk-hidden--visually {border: 0;clip: rect(1px 1px 1px 1px);clip: rect(1px, 1px, 1px, 1px);height: 1px;margin: -1px;overflow: hidden;padding: 0;position: absolute;width: 1px;}#sk-container-id-1 div.sk-estimator {font-family: monospace;background-color: #f0f8ff;border: 1px dotted black;border-radius: 0.25em;box-sizing: border-box;margin-bottom: 0.5em;}#sk-container-id-1 div.sk-estimator:hover {background-color: #d4ebff;}#sk-container-id-1 div.sk-parallel-item::after {content: \"\";width: 100%;border-bottom: 1px solid gray;flex-grow: 1;}#sk-container-id-1 div.sk-label:hover label.sk-toggleable__label {background-color: #d4ebff;}#sk-container-id-1 div.sk-serial::before {content: \"\";position: absolute;border-left: 1px solid gray;box-sizing: border-box;top: 0;bottom: 0;left: 50%;z-index: 0;}#sk-container-id-1 div.sk-serial {display: flex;flex-direction: column;align-items: center;background-color: white;padding-right: 0.2em;padding-left: 0.2em;position: relative;}#sk-container-id-1 div.sk-item {position: relative;z-index: 1;}#sk-container-id-1 div.sk-parallel {display: flex;align-items: stretch;justify-content: center;background-color: white;position: relative;}#sk-container-id-1 div.sk-item::before, #sk-container-id-1 div.sk-parallel-item::before {content: \"\";position: absolute;border-left: 1px solid gray;box-sizing: border-box;top: 0;bottom: 0;left: 50%;z-index: -1;}#sk-container-id-1 div.sk-parallel-item {display: flex;flex-direction: column;z-index: 1;position: relative;background-color: white;}#sk-container-id-1 div.sk-parallel-item:first-child::after {align-self: flex-end;width: 50%;}#sk-container-id-1 div.sk-parallel-item:last-child::after {align-self: flex-start;width: 50%;}#sk-container-id-1 div.sk-parallel-item:only-child::after {width: 0;}#sk-container-id-1 div.sk-dashed-wrapped {border: 1px dashed gray;margin: 0 0.4em 0.5em 0.4em;box-sizing: border-box;padding-bottom: 0.4em;background-color: white;}#sk-container-id-1 div.sk-label label {font-family: monospace;font-weight: bold;display: inline-block;line-height: 1.2em;}#sk-container-id-1 div.sk-label-container {text-align: center;}#sk-container-id-1 div.sk-container {/* jupyter's `normalize.less` sets `[hidden] { display: none; }` but bootstrap.min.css set `[hidden] { display: none !important; }` so we also need the `!important` here to be able to override the default hidden behavior on the sphinx rendered scikit-learn.org. See: https://github.com/scikit-learn/scikit-learn/issues/21755 */display: inline-block !important;position: relative;}#sk-container-id-1 div.sk-text-repr-fallback {display: none;}</style><div id=\"sk-container-id-1\" class=\"sk-top-container\"><div class=\"sk-text-repr-fallback\"><pre>PCA(n_components=10)</pre><b>In a Jupyter environment, please rerun this cell to show the HTML representation or trust the notebook. <br />On GitHub, the HTML representation is unable to render, please try loading this page with nbviewer.org.</b></div><div class=\"sk-container\" hidden><div class=\"sk-item\"><div class=\"sk-estimator sk-toggleable\"><input class=\"sk-toggleable__control sk-hidden--visually\" id=\"sk-estimator-id-1\" type=\"checkbox\" checked><label for=\"sk-estimator-id-1\" class=\"sk-toggleable__label sk-toggleable__label-arrow\">PCA</label><div class=\"sk-toggleable__content\"><pre>PCA(n_components=10)</pre></div></div></div></div></div>"
            ]
          },
          "metadata": {},
          "execution_count": 39
        }
      ],
      "source": [
        "pca.fit(df_re_nonull_std)"
      ]
    },
    {
      "cell_type": "code",
      "execution_count": 40,
      "id": "6a51cac6",
      "metadata": {
        "colab": {
          "base_uri": "https://localhost:8080/"
        },
        "id": "6a51cac6",
        "outputId": "df3a449e-0c16-4faf-9d2c-d6c756b52b4f"
      },
      "outputs": [
        {
          "output_type": "execute_result",
          "data": {
            "text/plain": [
              "array([[-0.18005812,  0.08203154,  0.2265259 ,  0.0262388 ,  0.13531731,\n",
              "        -0.46925552,  0.06824702,  0.49732787,  0.20712476, -0.43000967,\n",
              "         0.41115344, -0.03247446,  0.14107877, -0.02300708],\n",
              "       [ 0.27020351, -0.21117011, -0.49337389, -0.37878665,  0.17388065,\n",
              "        -0.2844963 ,  0.14932889, -0.08925003, -0.38645844, -0.1541739 ,\n",
              "         0.15587451, -0.39134648,  0.02167288,  0.05499502],\n",
              "       [-0.30193182, -0.06164438, -0.31484775,  0.03186625, -0.24040042,\n",
              "         0.0406445 ,  0.45177916,  0.10976141,  0.12449127, -0.32274048,\n",
              "        -0.23911754,  0.13106337, -0.47505452,  0.33106672],\n",
              "       [-0.35616897,  0.04889611, -0.02285922,  0.35366039,  0.58476012,\n",
              "        -0.0401722 , -0.11694583, -0.03070645, -0.42667943,  0.1759263 ,\n",
              "         0.14121875,  0.10556821, -0.21575073,  0.31038049],\n",
              "       [ 0.26797722,  0.59594063, -0.02019327, -0.13322424,  0.16437679,\n",
              "         0.36002235,  0.49131294,  0.0476516 , -0.04742056,  0.06241205,\n",
              "         0.34676478,  0.15778689, -0.03497138, -0.04563024],\n",
              "       [ 0.06474351, -0.12060209, -0.19586384,  0.34055798, -0.12706116,\n",
              "         0.05742406, -0.08279156,  0.18587503, -0.07903036,  0.05267716,\n",
              "         0.2593869 , -0.10383114, -0.50752749, -0.64915922],\n",
              "       [-0.04527868,  0.36985475, -0.00464941,  0.45033539, -0.39614531,\n",
              "         0.04915178, -0.01870533, -0.07341783, -0.15220931, -0.07624704,\n",
              "         0.06542744, -0.61411128,  0.16020368,  0.23913746],\n",
              "       [-0.49395257, -0.12914872,  0.07851844, -0.24138489,  0.08031734,\n",
              "         0.17324315,  0.33371424,  0.31571958, -0.00299158,  0.43407721,\n",
              "        -0.12226205, -0.40712164,  0.14714728, -0.19134058],\n",
              "       [ 0.24371068, -0.51875314,  0.14771992,  0.36565122, -0.05336249,\n",
              "         0.27704517,  0.33816029,  0.21482097, -0.31580159, -0.14344032,\n",
              "         0.02928218,  0.17068538,  0.3493697 ,  0.05933269],\n",
              "       [-0.04329075, -0.33173016, -0.14057753,  0.16155414,  0.07297358,\n",
              "         0.06493428,  0.14737834, -0.37659131,  0.56124404,  0.2055939 ,\n",
              "         0.51452647, -0.10451171,  0.0448112 ,  0.184944  ]])"
            ]
          },
          "metadata": {},
          "execution_count": 40
        }
      ],
      "source": [
        "pca.components_"
      ]
    },
    {
      "cell_type": "code",
      "execution_count": 41,
      "id": "5dc7b9f6",
      "metadata": {
        "colab": {
          "base_uri": "https://localhost:8080/",
          "height": 206
        },
        "id": "5dc7b9f6",
        "outputId": "0e35b3a5-8901-490a-82c9-7c3bc590aef0"
      },
      "outputs": [
        {
          "output_type": "execute_result",
          "data": {
            "text/plain": [
              "        PC1       PC2       PC3       PC4       PC5       PC6       PC7  \\\n",
              "0 -2.174082 -1.110022  0.027074 -0.238558 -0.944734  2.034612 -0.927647   \n",
              "1 -0.211667 -0.563695  0.176200 -0.120479 -0.660005 -0.421739  1.240349   \n",
              "2 -0.545930  0.831440  0.293843  0.384132 -0.645152 -0.041323  0.962848   \n",
              "3 -1.405464  1.384414 -0.165708 -0.635804  0.536367  0.109191  0.366991   \n",
              "4  0.716821 -0.660876  0.288619 -0.348156  0.396667 -0.206083  1.310327   \n",
              "\n",
              "        PC8       PC9      PC10  \n",
              "0 -0.890108 -0.720110  0.168826  \n",
              "1  0.516664 -0.171345 -0.462336  \n",
              "2  0.810853  1.690813 -0.651204  \n",
              "3 -2.425968  0.927282 -1.052465  \n",
              "4  0.590887 -0.347553  0.872608  "
            ],
            "text/html": [
              "\n",
              "\n",
              "  <div id=\"df-ebab1778-3de1-4620-96c9-be975c47ebab\">\n",
              "    <div class=\"colab-df-container\">\n",
              "      <div>\n",
              "<style scoped>\n",
              "    .dataframe tbody tr th:only-of-type {\n",
              "        vertical-align: middle;\n",
              "    }\n",
              "\n",
              "    .dataframe tbody tr th {\n",
              "        vertical-align: top;\n",
              "    }\n",
              "\n",
              "    .dataframe thead th {\n",
              "        text-align: right;\n",
              "    }\n",
              "</style>\n",
              "<table border=\"1\" class=\"dataframe\">\n",
              "  <thead>\n",
              "    <tr style=\"text-align: right;\">\n",
              "      <th></th>\n",
              "      <th>PC1</th>\n",
              "      <th>PC2</th>\n",
              "      <th>PC3</th>\n",
              "      <th>PC4</th>\n",
              "      <th>PC5</th>\n",
              "      <th>PC6</th>\n",
              "      <th>PC7</th>\n",
              "      <th>PC8</th>\n",
              "      <th>PC9</th>\n",
              "      <th>PC10</th>\n",
              "    </tr>\n",
              "  </thead>\n",
              "  <tbody>\n",
              "    <tr>\n",
              "      <th>0</th>\n",
              "      <td>-2.174082</td>\n",
              "      <td>-1.110022</td>\n",
              "      <td>0.027074</td>\n",
              "      <td>-0.238558</td>\n",
              "      <td>-0.944734</td>\n",
              "      <td>2.034612</td>\n",
              "      <td>-0.927647</td>\n",
              "      <td>-0.890108</td>\n",
              "      <td>-0.720110</td>\n",
              "      <td>0.168826</td>\n",
              "    </tr>\n",
              "    <tr>\n",
              "      <th>1</th>\n",
              "      <td>-0.211667</td>\n",
              "      <td>-0.563695</td>\n",
              "      <td>0.176200</td>\n",
              "      <td>-0.120479</td>\n",
              "      <td>-0.660005</td>\n",
              "      <td>-0.421739</td>\n",
              "      <td>1.240349</td>\n",
              "      <td>0.516664</td>\n",
              "      <td>-0.171345</td>\n",
              "      <td>-0.462336</td>\n",
              "    </tr>\n",
              "    <tr>\n",
              "      <th>2</th>\n",
              "      <td>-0.545930</td>\n",
              "      <td>0.831440</td>\n",
              "      <td>0.293843</td>\n",
              "      <td>0.384132</td>\n",
              "      <td>-0.645152</td>\n",
              "      <td>-0.041323</td>\n",
              "      <td>0.962848</td>\n",
              "      <td>0.810853</td>\n",
              "      <td>1.690813</td>\n",
              "      <td>-0.651204</td>\n",
              "    </tr>\n",
              "    <tr>\n",
              "      <th>3</th>\n",
              "      <td>-1.405464</td>\n",
              "      <td>1.384414</td>\n",
              "      <td>-0.165708</td>\n",
              "      <td>-0.635804</td>\n",
              "      <td>0.536367</td>\n",
              "      <td>0.109191</td>\n",
              "      <td>0.366991</td>\n",
              "      <td>-2.425968</td>\n",
              "      <td>0.927282</td>\n",
              "      <td>-1.052465</td>\n",
              "    </tr>\n",
              "    <tr>\n",
              "      <th>4</th>\n",
              "      <td>0.716821</td>\n",
              "      <td>-0.660876</td>\n",
              "      <td>0.288619</td>\n",
              "      <td>-0.348156</td>\n",
              "      <td>0.396667</td>\n",
              "      <td>-0.206083</td>\n",
              "      <td>1.310327</td>\n",
              "      <td>0.590887</td>\n",
              "      <td>-0.347553</td>\n",
              "      <td>0.872608</td>\n",
              "    </tr>\n",
              "  </tbody>\n",
              "</table>\n",
              "</div>\n",
              "      <button class=\"colab-df-convert\" onclick=\"convertToInteractive('df-ebab1778-3de1-4620-96c9-be975c47ebab')\"\n",
              "              title=\"Convert this dataframe to an interactive table.\"\n",
              "              style=\"display:none;\">\n",
              "\n",
              "  <svg xmlns=\"http://www.w3.org/2000/svg\" height=\"24px\"viewBox=\"0 0 24 24\"\n",
              "       width=\"24px\">\n",
              "    <path d=\"M0 0h24v24H0V0z\" fill=\"none\"/>\n",
              "    <path d=\"M18.56 5.44l.94 2.06.94-2.06 2.06-.94-2.06-.94-.94-2.06-.94 2.06-2.06.94zm-11 1L8.5 8.5l.94-2.06 2.06-.94-2.06-.94L8.5 2.5l-.94 2.06-2.06.94zm10 10l.94 2.06.94-2.06 2.06-.94-2.06-.94-.94-2.06-.94 2.06-2.06.94z\"/><path d=\"M17.41 7.96l-1.37-1.37c-.4-.4-.92-.59-1.43-.59-.52 0-1.04.2-1.43.59L10.3 9.45l-7.72 7.72c-.78.78-.78 2.05 0 2.83L4 21.41c.39.39.9.59 1.41.59.51 0 1.02-.2 1.41-.59l7.78-7.78 2.81-2.81c.8-.78.8-2.07 0-2.86zM5.41 20L4 18.59l7.72-7.72 1.47 1.35L5.41 20z\"/>\n",
              "  </svg>\n",
              "      </button>\n",
              "\n",
              "\n",
              "\n",
              "    <div id=\"df-c066f6ca-b2cc-459b-ace1-93875c0454df\">\n",
              "      <button class=\"colab-df-quickchart\" onclick=\"quickchart('df-c066f6ca-b2cc-459b-ace1-93875c0454df')\"\n",
              "              title=\"Suggest charts.\"\n",
              "              style=\"display:none;\">\n",
              "\n",
              "<svg xmlns=\"http://www.w3.org/2000/svg\" height=\"24px\"viewBox=\"0 0 24 24\"\n",
              "     width=\"24px\">\n",
              "    <g>\n",
              "        <path d=\"M19 3H5c-1.1 0-2 .9-2 2v14c0 1.1.9 2 2 2h14c1.1 0 2-.9 2-2V5c0-1.1-.9-2-2-2zM9 17H7v-7h2v7zm4 0h-2V7h2v10zm4 0h-2v-4h2v4z\"/>\n",
              "    </g>\n",
              "</svg>\n",
              "      </button>\n",
              "    </div>\n",
              "\n",
              "<style>\n",
              "  .colab-df-quickchart {\n",
              "    background-color: #E8F0FE;\n",
              "    border: none;\n",
              "    border-radius: 50%;\n",
              "    cursor: pointer;\n",
              "    display: none;\n",
              "    fill: #1967D2;\n",
              "    height: 32px;\n",
              "    padding: 0 0 0 0;\n",
              "    width: 32px;\n",
              "  }\n",
              "\n",
              "  .colab-df-quickchart:hover {\n",
              "    background-color: #E2EBFA;\n",
              "    box-shadow: 0px 1px 2px rgba(60, 64, 67, 0.3), 0px 1px 3px 1px rgba(60, 64, 67, 0.15);\n",
              "    fill: #174EA6;\n",
              "  }\n",
              "\n",
              "  [theme=dark] .colab-df-quickchart {\n",
              "    background-color: #3B4455;\n",
              "    fill: #D2E3FC;\n",
              "  }\n",
              "\n",
              "  [theme=dark] .colab-df-quickchart:hover {\n",
              "    background-color: #434B5C;\n",
              "    box-shadow: 0px 1px 3px 1px rgba(0, 0, 0, 0.15);\n",
              "    filter: drop-shadow(0px 1px 2px rgba(0, 0, 0, 0.3));\n",
              "    fill: #FFFFFF;\n",
              "  }\n",
              "</style>\n",
              "\n",
              "    <script>\n",
              "      async function quickchart(key) {\n",
              "        const containerElement = document.querySelector('#' + key);\n",
              "        const charts = await google.colab.kernel.invokeFunction(\n",
              "            'suggestCharts', [key], {});\n",
              "      }\n",
              "    </script>\n",
              "\n",
              "      <script>\n",
              "\n",
              "function displayQuickchartButton(domScope) {\n",
              "  let quickchartButtonEl =\n",
              "    domScope.querySelector('#df-c066f6ca-b2cc-459b-ace1-93875c0454df button.colab-df-quickchart');\n",
              "  quickchartButtonEl.style.display =\n",
              "    google.colab.kernel.accessAllowed ? 'block' : 'none';\n",
              "}\n",
              "\n",
              "        displayQuickchartButton(document);\n",
              "      </script>\n",
              "      <style>\n",
              "    .colab-df-container {\n",
              "      display:flex;\n",
              "      flex-wrap:wrap;\n",
              "      gap: 12px;\n",
              "    }\n",
              "\n",
              "    .colab-df-convert {\n",
              "      background-color: #E8F0FE;\n",
              "      border: none;\n",
              "      border-radius: 50%;\n",
              "      cursor: pointer;\n",
              "      display: none;\n",
              "      fill: #1967D2;\n",
              "      height: 32px;\n",
              "      padding: 0 0 0 0;\n",
              "      width: 32px;\n",
              "    }\n",
              "\n",
              "    .colab-df-convert:hover {\n",
              "      background-color: #E2EBFA;\n",
              "      box-shadow: 0px 1px 2px rgba(60, 64, 67, 0.3), 0px 1px 3px 1px rgba(60, 64, 67, 0.15);\n",
              "      fill: #174EA6;\n",
              "    }\n",
              "\n",
              "    [theme=dark] .colab-df-convert {\n",
              "      background-color: #3B4455;\n",
              "      fill: #D2E3FC;\n",
              "    }\n",
              "\n",
              "    [theme=dark] .colab-df-convert:hover {\n",
              "      background-color: #434B5C;\n",
              "      box-shadow: 0px 1px 3px 1px rgba(0, 0, 0, 0.15);\n",
              "      filter: drop-shadow(0px 1px 2px rgba(0, 0, 0, 0.3));\n",
              "      fill: #FFFFFF;\n",
              "    }\n",
              "  </style>\n",
              "\n",
              "      <script>\n",
              "        const buttonEl =\n",
              "          document.querySelector('#df-ebab1778-3de1-4620-96c9-be975c47ebab button.colab-df-convert');\n",
              "        buttonEl.style.display =\n",
              "          google.colab.kernel.accessAllowed ? 'block' : 'none';\n",
              "\n",
              "        async function convertToInteractive(key) {\n",
              "          const element = document.querySelector('#df-ebab1778-3de1-4620-96c9-be975c47ebab');\n",
              "          const dataTable =\n",
              "            await google.colab.kernel.invokeFunction('convertToInteractive',\n",
              "                                                     [key], {});\n",
              "          if (!dataTable) return;\n",
              "\n",
              "          const docLinkHtml = 'Like what you see? Visit the ' +\n",
              "            '<a target=\"_blank\" href=https://colab.research.google.com/notebooks/data_table.ipynb>data table notebook</a>'\n",
              "            + ' to learn more about interactive tables.';\n",
              "          element.innerHTML = '';\n",
              "          dataTable['output_type'] = 'display_data';\n",
              "          await google.colab.output.renderOutput(dataTable, element);\n",
              "          const docLink = document.createElement('div');\n",
              "          docLink.innerHTML = docLinkHtml;\n",
              "          element.appendChild(docLink);\n",
              "        }\n",
              "      </script>\n",
              "    </div>\n",
              "  </div>\n"
            ]
          },
          "metadata": {},
          "execution_count": 41
        }
      ],
      "source": [
        "pca = PCA(n_components=10)\n",
        "pca_data=pca.fit_transform(df_re_nonull_std)\n",
        "data2 = pd.DataFrame(pca_data, columns=['PC1', 'PC2','PC3','PC4','PC5','PC6','PC7','PC8','PC9','PC10'])\n",
        "data2.head()\n",
        "\n"
      ]
    },
    {
      "cell_type": "code",
      "execution_count": 42,
      "id": "7e3dcbe1",
      "metadata": {
        "colab": {
          "base_uri": "https://localhost:8080/",
          "height": 722
        },
        "id": "7e3dcbe1",
        "outputId": "8c4485a4-050a-4147-9aa0-3460c7e77581"
      },
      "outputs": [
        {
          "output_type": "execute_result",
          "data": {
            "text/plain": [
              "                   Age      City  Profession  Marital Status  Education  \\\n",
              "Component 1  -0.180058  0.082032    0.226526        0.026239   0.135317   \n",
              "Component 2   0.270204 -0.211170   -0.493374       -0.378787   0.173881   \n",
              "Component 3  -0.301932 -0.061644   -0.314848        0.031866  -0.240400   \n",
              "Component 4  -0.356169  0.048896   -0.022859        0.353660   0.584760   \n",
              "Component 5   0.267977  0.595941   -0.020193       -0.133224   0.164377   \n",
              "Component 6   0.064744 -0.120602   -0.195864        0.340558  -0.127061   \n",
              "Component 7  -0.045279  0.369855   -0.004649        0.450335  -0.396145   \n",
              "Component 8  -0.493953 -0.129149    0.078518       -0.241385   0.080317   \n",
              "Component 9   0.243711 -0.518753    0.147720        0.365651  -0.053362   \n",
              "Component 10 -0.043291 -0.331730   -0.140578        0.161554   0.072974   \n",
              "\n",
              "              No. of Family members  Annual Income  \\\n",
              "Component 1               -0.469256       0.068247   \n",
              "Component 2               -0.284496       0.149329   \n",
              "Component 3                0.040644       0.451779   \n",
              "Component 4               -0.040172      -0.116946   \n",
              "Component 5                0.360022       0.491313   \n",
              "Component 6                0.057424      -0.082792   \n",
              "Component 7                0.049152      -0.018705   \n",
              "Component 8                0.173243       0.333714   \n",
              "Component 9                0.277045       0.338160   \n",
              "Component 10               0.064934       0.147378   \n",
              "\n",
              "              Would you prefer replacing all your vehicles to Electronic vehicles?  \\\n",
              "Component 1                                            0.497328                      \n",
              "Component 2                                           -0.089250                      \n",
              "Component 3                                            0.109761                      \n",
              "Component 4                                           -0.030706                      \n",
              "Component 5                                            0.047652                      \n",
              "Component 6                                            0.185875                      \n",
              "Component 7                                           -0.073418                      \n",
              "Component 8                                            0.315720                      \n",
              "Component 9                                            0.214821                      \n",
              "Component 10                                          -0.376591                      \n",
              "\n",
              "              If Yes/Maybe what type of  EV would you prefer?  \\\n",
              "Component 1                                          0.207125   \n",
              "Component 2                                         -0.386458   \n",
              "Component 3                                          0.124491   \n",
              "Component 4                                         -0.426679   \n",
              "Component 5                                         -0.047421   \n",
              "Component 6                                         -0.079030   \n",
              "Component 7                                         -0.152209   \n",
              "Component 8                                         -0.002992   \n",
              "Component 9                                         -0.315802   \n",
              "Component 10                                         0.561244   \n",
              "\n",
              "              Do you think Electronic Vehicles are economical?  \\\n",
              "Component 1                                          -0.430010   \n",
              "Component 2                                          -0.154174   \n",
              "Component 3                                          -0.322740   \n",
              "Component 4                                           0.175926   \n",
              "Component 5                                           0.062412   \n",
              "Component 6                                           0.052677   \n",
              "Component 7                                          -0.076247   \n",
              "Component 8                                           0.434077   \n",
              "Component 9                                          -0.143440   \n",
              "Component 10                                          0.205594   \n",
              "\n",
              "              Which brand of vehicle do you currently own?  \\\n",
              "Component 1                                       0.411153   \n",
              "Component 2                                       0.155875   \n",
              "Component 3                                      -0.239118   \n",
              "Component 4                                       0.141219   \n",
              "Component 5                                       0.346765   \n",
              "Component 6                                       0.259387   \n",
              "Component 7                                       0.065427   \n",
              "Component 8                                      -0.122262   \n",
              "Component 9                                       0.029282   \n",
              "Component 10                                      0.514526   \n",
              "\n",
              "              How much money could you spend on an Electronic vehicle?  \\\n",
              "Component 1                                           -0.032474          \n",
              "Component 2                                           -0.391346          \n",
              "Component 3                                            0.131063          \n",
              "Component 4                                            0.105568          \n",
              "Component 5                                            0.157787          \n",
              "Component 6                                           -0.103831          \n",
              "Component 7                                           -0.614111          \n",
              "Component 8                                           -0.407122          \n",
              "Component 9                                            0.170685          \n",
              "Component 10                                          -0.104512          \n",
              "\n",
              "              Preference for wheels in EV  \\\n",
              "Component 1                      0.141079   \n",
              "Component 2                      0.021673   \n",
              "Component 3                     -0.475055   \n",
              "Component 4                     -0.215751   \n",
              "Component 5                     -0.034971   \n",
              "Component 6                     -0.507527   \n",
              "Component 7                      0.160204   \n",
              "Component 8                      0.147147   \n",
              "Component 9                      0.349370   \n",
              "Component 10                     0.044811   \n",
              "\n",
              "              Do you think Electronic vehicles will replace fuel cars in India?  \n",
              "Component 1                                           -0.023007                  \n",
              "Component 2                                            0.054995                  \n",
              "Component 3                                            0.331067                  \n",
              "Component 4                                            0.310380                  \n",
              "Component 5                                           -0.045630                  \n",
              "Component 6                                           -0.649159                  \n",
              "Component 7                                            0.239137                  \n",
              "Component 8                                           -0.191341                  \n",
              "Component 9                                            0.059333                  \n",
              "Component 10                                           0.184944                  "
            ],
            "text/html": [
              "\n",
              "\n",
              "  <div id=\"df-a7abc365-7243-4de4-8be9-316ebeefaae4\">\n",
              "    <div class=\"colab-df-container\">\n",
              "      <div>\n",
              "<style scoped>\n",
              "    .dataframe tbody tr th:only-of-type {\n",
              "        vertical-align: middle;\n",
              "    }\n",
              "\n",
              "    .dataframe tbody tr th {\n",
              "        vertical-align: top;\n",
              "    }\n",
              "\n",
              "    .dataframe thead th {\n",
              "        text-align: right;\n",
              "    }\n",
              "</style>\n",
              "<table border=\"1\" class=\"dataframe\">\n",
              "  <thead>\n",
              "    <tr style=\"text-align: right;\">\n",
              "      <th></th>\n",
              "      <th>Age</th>\n",
              "      <th>City</th>\n",
              "      <th>Profession</th>\n",
              "      <th>Marital Status</th>\n",
              "      <th>Education</th>\n",
              "      <th>No. of Family members</th>\n",
              "      <th>Annual Income</th>\n",
              "      <th>Would you prefer replacing all your vehicles to Electronic vehicles?</th>\n",
              "      <th>If Yes/Maybe what type of  EV would you prefer?</th>\n",
              "      <th>Do you think Electronic Vehicles are economical?</th>\n",
              "      <th>Which brand of vehicle do you currently own?</th>\n",
              "      <th>How much money could you spend on an Electronic vehicle?</th>\n",
              "      <th>Preference for wheels in EV</th>\n",
              "      <th>Do you think Electronic vehicles will replace fuel cars in India?</th>\n",
              "    </tr>\n",
              "  </thead>\n",
              "  <tbody>\n",
              "    <tr>\n",
              "      <th>Component 1</th>\n",
              "      <td>-0.180058</td>\n",
              "      <td>0.082032</td>\n",
              "      <td>0.226526</td>\n",
              "      <td>0.026239</td>\n",
              "      <td>0.135317</td>\n",
              "      <td>-0.469256</td>\n",
              "      <td>0.068247</td>\n",
              "      <td>0.497328</td>\n",
              "      <td>0.207125</td>\n",
              "      <td>-0.430010</td>\n",
              "      <td>0.411153</td>\n",
              "      <td>-0.032474</td>\n",
              "      <td>0.141079</td>\n",
              "      <td>-0.023007</td>\n",
              "    </tr>\n",
              "    <tr>\n",
              "      <th>Component 2</th>\n",
              "      <td>0.270204</td>\n",
              "      <td>-0.211170</td>\n",
              "      <td>-0.493374</td>\n",
              "      <td>-0.378787</td>\n",
              "      <td>0.173881</td>\n",
              "      <td>-0.284496</td>\n",
              "      <td>0.149329</td>\n",
              "      <td>-0.089250</td>\n",
              "      <td>-0.386458</td>\n",
              "      <td>-0.154174</td>\n",
              "      <td>0.155875</td>\n",
              "      <td>-0.391346</td>\n",
              "      <td>0.021673</td>\n",
              "      <td>0.054995</td>\n",
              "    </tr>\n",
              "    <tr>\n",
              "      <th>Component 3</th>\n",
              "      <td>-0.301932</td>\n",
              "      <td>-0.061644</td>\n",
              "      <td>-0.314848</td>\n",
              "      <td>0.031866</td>\n",
              "      <td>-0.240400</td>\n",
              "      <td>0.040644</td>\n",
              "      <td>0.451779</td>\n",
              "      <td>0.109761</td>\n",
              "      <td>0.124491</td>\n",
              "      <td>-0.322740</td>\n",
              "      <td>-0.239118</td>\n",
              "      <td>0.131063</td>\n",
              "      <td>-0.475055</td>\n",
              "      <td>0.331067</td>\n",
              "    </tr>\n",
              "    <tr>\n",
              "      <th>Component 4</th>\n",
              "      <td>-0.356169</td>\n",
              "      <td>0.048896</td>\n",
              "      <td>-0.022859</td>\n",
              "      <td>0.353660</td>\n",
              "      <td>0.584760</td>\n",
              "      <td>-0.040172</td>\n",
              "      <td>-0.116946</td>\n",
              "      <td>-0.030706</td>\n",
              "      <td>-0.426679</td>\n",
              "      <td>0.175926</td>\n",
              "      <td>0.141219</td>\n",
              "      <td>0.105568</td>\n",
              "      <td>-0.215751</td>\n",
              "      <td>0.310380</td>\n",
              "    </tr>\n",
              "    <tr>\n",
              "      <th>Component 5</th>\n",
              "      <td>0.267977</td>\n",
              "      <td>0.595941</td>\n",
              "      <td>-0.020193</td>\n",
              "      <td>-0.133224</td>\n",
              "      <td>0.164377</td>\n",
              "      <td>0.360022</td>\n",
              "      <td>0.491313</td>\n",
              "      <td>0.047652</td>\n",
              "      <td>-0.047421</td>\n",
              "      <td>0.062412</td>\n",
              "      <td>0.346765</td>\n",
              "      <td>0.157787</td>\n",
              "      <td>-0.034971</td>\n",
              "      <td>-0.045630</td>\n",
              "    </tr>\n",
              "    <tr>\n",
              "      <th>Component 6</th>\n",
              "      <td>0.064744</td>\n",
              "      <td>-0.120602</td>\n",
              "      <td>-0.195864</td>\n",
              "      <td>0.340558</td>\n",
              "      <td>-0.127061</td>\n",
              "      <td>0.057424</td>\n",
              "      <td>-0.082792</td>\n",
              "      <td>0.185875</td>\n",
              "      <td>-0.079030</td>\n",
              "      <td>0.052677</td>\n",
              "      <td>0.259387</td>\n",
              "      <td>-0.103831</td>\n",
              "      <td>-0.507527</td>\n",
              "      <td>-0.649159</td>\n",
              "    </tr>\n",
              "    <tr>\n",
              "      <th>Component 7</th>\n",
              "      <td>-0.045279</td>\n",
              "      <td>0.369855</td>\n",
              "      <td>-0.004649</td>\n",
              "      <td>0.450335</td>\n",
              "      <td>-0.396145</td>\n",
              "      <td>0.049152</td>\n",
              "      <td>-0.018705</td>\n",
              "      <td>-0.073418</td>\n",
              "      <td>-0.152209</td>\n",
              "      <td>-0.076247</td>\n",
              "      <td>0.065427</td>\n",
              "      <td>-0.614111</td>\n",
              "      <td>0.160204</td>\n",
              "      <td>0.239137</td>\n",
              "    </tr>\n",
              "    <tr>\n",
              "      <th>Component 8</th>\n",
              "      <td>-0.493953</td>\n",
              "      <td>-0.129149</td>\n",
              "      <td>0.078518</td>\n",
              "      <td>-0.241385</td>\n",
              "      <td>0.080317</td>\n",
              "      <td>0.173243</td>\n",
              "      <td>0.333714</td>\n",
              "      <td>0.315720</td>\n",
              "      <td>-0.002992</td>\n",
              "      <td>0.434077</td>\n",
              "      <td>-0.122262</td>\n",
              "      <td>-0.407122</td>\n",
              "      <td>0.147147</td>\n",
              "      <td>-0.191341</td>\n",
              "    </tr>\n",
              "    <tr>\n",
              "      <th>Component 9</th>\n",
              "      <td>0.243711</td>\n",
              "      <td>-0.518753</td>\n",
              "      <td>0.147720</td>\n",
              "      <td>0.365651</td>\n",
              "      <td>-0.053362</td>\n",
              "      <td>0.277045</td>\n",
              "      <td>0.338160</td>\n",
              "      <td>0.214821</td>\n",
              "      <td>-0.315802</td>\n",
              "      <td>-0.143440</td>\n",
              "      <td>0.029282</td>\n",
              "      <td>0.170685</td>\n",
              "      <td>0.349370</td>\n",
              "      <td>0.059333</td>\n",
              "    </tr>\n",
              "    <tr>\n",
              "      <th>Component 10</th>\n",
              "      <td>-0.043291</td>\n",
              "      <td>-0.331730</td>\n",
              "      <td>-0.140578</td>\n",
              "      <td>0.161554</td>\n",
              "      <td>0.072974</td>\n",
              "      <td>0.064934</td>\n",
              "      <td>0.147378</td>\n",
              "      <td>-0.376591</td>\n",
              "      <td>0.561244</td>\n",
              "      <td>0.205594</td>\n",
              "      <td>0.514526</td>\n",
              "      <td>-0.104512</td>\n",
              "      <td>0.044811</td>\n",
              "      <td>0.184944</td>\n",
              "    </tr>\n",
              "  </tbody>\n",
              "</table>\n",
              "</div>\n",
              "      <button class=\"colab-df-convert\" onclick=\"convertToInteractive('df-a7abc365-7243-4de4-8be9-316ebeefaae4')\"\n",
              "              title=\"Convert this dataframe to an interactive table.\"\n",
              "              style=\"display:none;\">\n",
              "\n",
              "  <svg xmlns=\"http://www.w3.org/2000/svg\" height=\"24px\"viewBox=\"0 0 24 24\"\n",
              "       width=\"24px\">\n",
              "    <path d=\"M0 0h24v24H0V0z\" fill=\"none\"/>\n",
              "    <path d=\"M18.56 5.44l.94 2.06.94-2.06 2.06-.94-2.06-.94-.94-2.06-.94 2.06-2.06.94zm-11 1L8.5 8.5l.94-2.06 2.06-.94-2.06-.94L8.5 2.5l-.94 2.06-2.06.94zm10 10l.94 2.06.94-2.06 2.06-.94-2.06-.94-.94-2.06-.94 2.06-2.06.94z\"/><path d=\"M17.41 7.96l-1.37-1.37c-.4-.4-.92-.59-1.43-.59-.52 0-1.04.2-1.43.59L10.3 9.45l-7.72 7.72c-.78.78-.78 2.05 0 2.83L4 21.41c.39.39.9.59 1.41.59.51 0 1.02-.2 1.41-.59l7.78-7.78 2.81-2.81c.8-.78.8-2.07 0-2.86zM5.41 20L4 18.59l7.72-7.72 1.47 1.35L5.41 20z\"/>\n",
              "  </svg>\n",
              "      </button>\n",
              "\n",
              "\n",
              "\n",
              "    <div id=\"df-0f82a7cd-4c44-48b1-a093-cb3d064b0abd\">\n",
              "      <button class=\"colab-df-quickchart\" onclick=\"quickchart('df-0f82a7cd-4c44-48b1-a093-cb3d064b0abd')\"\n",
              "              title=\"Suggest charts.\"\n",
              "              style=\"display:none;\">\n",
              "\n",
              "<svg xmlns=\"http://www.w3.org/2000/svg\" height=\"24px\"viewBox=\"0 0 24 24\"\n",
              "     width=\"24px\">\n",
              "    <g>\n",
              "        <path d=\"M19 3H5c-1.1 0-2 .9-2 2v14c0 1.1.9 2 2 2h14c1.1 0 2-.9 2-2V5c0-1.1-.9-2-2-2zM9 17H7v-7h2v7zm4 0h-2V7h2v10zm4 0h-2v-4h2v4z\"/>\n",
              "    </g>\n",
              "</svg>\n",
              "      </button>\n",
              "    </div>\n",
              "\n",
              "<style>\n",
              "  .colab-df-quickchart {\n",
              "    background-color: #E8F0FE;\n",
              "    border: none;\n",
              "    border-radius: 50%;\n",
              "    cursor: pointer;\n",
              "    display: none;\n",
              "    fill: #1967D2;\n",
              "    height: 32px;\n",
              "    padding: 0 0 0 0;\n",
              "    width: 32px;\n",
              "  }\n",
              "\n",
              "  .colab-df-quickchart:hover {\n",
              "    background-color: #E2EBFA;\n",
              "    box-shadow: 0px 1px 2px rgba(60, 64, 67, 0.3), 0px 1px 3px 1px rgba(60, 64, 67, 0.15);\n",
              "    fill: #174EA6;\n",
              "  }\n",
              "\n",
              "  [theme=dark] .colab-df-quickchart {\n",
              "    background-color: #3B4455;\n",
              "    fill: #D2E3FC;\n",
              "  }\n",
              "\n",
              "  [theme=dark] .colab-df-quickchart:hover {\n",
              "    background-color: #434B5C;\n",
              "    box-shadow: 0px 1px 3px 1px rgba(0, 0, 0, 0.15);\n",
              "    filter: drop-shadow(0px 1px 2px rgba(0, 0, 0, 0.3));\n",
              "    fill: #FFFFFF;\n",
              "  }\n",
              "</style>\n",
              "\n",
              "    <script>\n",
              "      async function quickchart(key) {\n",
              "        const containerElement = document.querySelector('#' + key);\n",
              "        const charts = await google.colab.kernel.invokeFunction(\n",
              "            'suggestCharts', [key], {});\n",
              "      }\n",
              "    </script>\n",
              "\n",
              "      <script>\n",
              "\n",
              "function displayQuickchartButton(domScope) {\n",
              "  let quickchartButtonEl =\n",
              "    domScope.querySelector('#df-0f82a7cd-4c44-48b1-a093-cb3d064b0abd button.colab-df-quickchart');\n",
              "  quickchartButtonEl.style.display =\n",
              "    google.colab.kernel.accessAllowed ? 'block' : 'none';\n",
              "}\n",
              "\n",
              "        displayQuickchartButton(document);\n",
              "      </script>\n",
              "      <style>\n",
              "    .colab-df-container {\n",
              "      display:flex;\n",
              "      flex-wrap:wrap;\n",
              "      gap: 12px;\n",
              "    }\n",
              "\n",
              "    .colab-df-convert {\n",
              "      background-color: #E8F0FE;\n",
              "      border: none;\n",
              "      border-radius: 50%;\n",
              "      cursor: pointer;\n",
              "      display: none;\n",
              "      fill: #1967D2;\n",
              "      height: 32px;\n",
              "      padding: 0 0 0 0;\n",
              "      width: 32px;\n",
              "    }\n",
              "\n",
              "    .colab-df-convert:hover {\n",
              "      background-color: #E2EBFA;\n",
              "      box-shadow: 0px 1px 2px rgba(60, 64, 67, 0.3), 0px 1px 3px 1px rgba(60, 64, 67, 0.15);\n",
              "      fill: #174EA6;\n",
              "    }\n",
              "\n",
              "    [theme=dark] .colab-df-convert {\n",
              "      background-color: #3B4455;\n",
              "      fill: #D2E3FC;\n",
              "    }\n",
              "\n",
              "    [theme=dark] .colab-df-convert:hover {\n",
              "      background-color: #434B5C;\n",
              "      box-shadow: 0px 1px 3px 1px rgba(0, 0, 0, 0.15);\n",
              "      filter: drop-shadow(0px 1px 2px rgba(0, 0, 0, 0.3));\n",
              "      fill: #FFFFFF;\n",
              "    }\n",
              "  </style>\n",
              "\n",
              "      <script>\n",
              "        const buttonEl =\n",
              "          document.querySelector('#df-a7abc365-7243-4de4-8be9-316ebeefaae4 button.colab-df-convert');\n",
              "        buttonEl.style.display =\n",
              "          google.colab.kernel.accessAllowed ? 'block' : 'none';\n",
              "\n",
              "        async function convertToInteractive(key) {\n",
              "          const element = document.querySelector('#df-a7abc365-7243-4de4-8be9-316ebeefaae4');\n",
              "          const dataTable =\n",
              "            await google.colab.kernel.invokeFunction('convertToInteractive',\n",
              "                                                     [key], {});\n",
              "          if (!dataTable) return;\n",
              "\n",
              "          const docLinkHtml = 'Like what you see? Visit the ' +\n",
              "            '<a target=\"_blank\" href=https://colab.research.google.com/notebooks/data_table.ipynb>data table notebook</a>'\n",
              "            + ' to learn more about interactive tables.';\n",
              "          element.innerHTML = '';\n",
              "          dataTable['output_type'] = 'display_data';\n",
              "          await google.colab.output.renderOutput(dataTable, element);\n",
              "          const docLink = document.createElement('div');\n",
              "          docLink.innerHTML = docLinkHtml;\n",
              "          element.appendChild(docLink);\n",
              "        }\n",
              "      </script>\n",
              "    </div>\n",
              "  </div>\n"
            ]
          },
          "metadata": {},
          "execution_count": 42
        }
      ],
      "source": [
        "df_pca_comp = pd.DataFrame(data=pca.components_,\n",
        "                        columns=data.columns.values,\n",
        "                        index=['Component 1','Component 2','Component 3','Component 4','Component 5','Component 6',\n",
        "                               'Component 7', 'Component 8','Component 9','Component 10'])\n",
        "df_pca_comp"
      ]
    },
    {
      "cell_type": "markdown",
      "id": "7b35001c",
      "metadata": {
        "id": "7b35001c"
      },
      "source": [
        "# Dendogram"
      ]
    },
    {
      "cell_type": "code",
      "execution_count": 43,
      "id": "26525a7d",
      "metadata": {
        "colab": {
          "base_uri": "https://localhost:8080/",
          "height": 756
        },
        "id": "26525a7d",
        "outputId": "430a099a-32d8-4f69-b88a-e37abec564e7"
      },
      "outputs": [
        {
          "output_type": "display_data",
          "data": {
            "text/plain": [
              "<Figure size 1300x900 with 1 Axes>"
            ],
            "image/png": "[encoded data removed]"
          },
          "metadata": {}
        }
      ],
      "source": [
        "from scipy.cluster.hierarchy import dendrogram, linkage\n",
        "\n",
        "linked = linkage(pca_data, 'complete')\n",
        "plt.figure(figsize=(13, 9))\n",
        "dendrogram(linked, orientation='top')\n",
        "plt.show()\n",
        "\n"
      ]
    },
    {
      "cell_type": "markdown",
      "id": "39659555",
      "metadata": {
        "id": "39659555"
      },
      "source": [
        "# Finding Number of Clusters using Elbow Method"
      ]
    },
    {
      "cell_type": "code",
      "execution_count": 44,
      "id": "691528c3",
      "metadata": {
        "colab": {
          "base_uri": "https://localhost:8080/",
          "height": 847
        },
        "id": "691528c3",
        "outputId": "cc5f86d7-4999-4971-aad1-ec8f450d2465"
      },
      "outputs": [
        {
          "output_type": "stream",
          "name": "stderr",
          "text": [
            "/usr/local/lib/python3.10/dist-packages/sklearn/cluster/_kmeans.py:870: FutureWarning: The default value of `n_init` will change from 10 to 'auto' in 1.4. Set the value of `n_init` explicitly to suppress the warning\n",
            "  warnings.warn(\n",
            "/usr/local/lib/python3.10/dist-packages/sklearn/cluster/_kmeans.py:870: FutureWarning: The default value of `n_init` will change from 10 to 'auto' in 1.4. Set the value of `n_init` explicitly to suppress the warning\n",
            "  warnings.warn(\n",
            "/usr/local/lib/python3.10/dist-packages/sklearn/cluster/_kmeans.py:870: FutureWarning: The default value of `n_init` will change from 10 to 'auto' in 1.4. Set the value of `n_init` explicitly to suppress the warning\n",
            "  warnings.warn(\n",
            "/usr/local/lib/python3.10/dist-packages/sklearn/cluster/_kmeans.py:870: FutureWarning: The default value of `n_init` will change from 10 to 'auto' in 1.4. Set the value of `n_init` explicitly to suppress the warning\n",
            "  warnings.warn(\n",
            "/usr/local/lib/python3.10/dist-packages/sklearn/cluster/_kmeans.py:870: FutureWarning: The default value of `n_init` will change from 10 to 'auto' in 1.4. Set the value of `n_init` explicitly to suppress the warning\n",
            "  warnings.warn(\n",
            "/usr/local/lib/python3.10/dist-packages/sklearn/cluster/_kmeans.py:870: FutureWarning: The default value of `n_init` will change from 10 to 'auto' in 1.4. Set the value of `n_init` explicitly to suppress the warning\n",
            "  warnings.warn(\n",
            "/usr/local/lib/python3.10/dist-packages/sklearn/cluster/_kmeans.py:870: FutureWarning: The default value of `n_init` will change from 10 to 'auto' in 1.4. Set the value of `n_init` explicitly to suppress the warning\n",
            "  warnings.warn(\n",
            "/usr/local/lib/python3.10/dist-packages/sklearn/cluster/_kmeans.py:870: FutureWarning: The default value of `n_init` will change from 10 to 'auto' in 1.4. Set the value of `n_init` explicitly to suppress the warning\n",
            "  warnings.warn(\n",
            "/usr/local/lib/python3.10/dist-packages/sklearn/cluster/_kmeans.py:870: FutureWarning: The default value of `n_init` will change from 10 to 'auto' in 1.4. Set the value of `n_init` explicitly to suppress the warning\n",
            "  warnings.warn(\n",
            "/usr/local/lib/python3.10/dist-packages/sklearn/cluster/_kmeans.py:870: FutureWarning: The default value of `n_init` will change from 10 to 'auto' in 1.4. Set the value of `n_init` explicitly to suppress the warning\n",
            "  warnings.warn(\n"
          ]
        },
        {
          "output_type": "display_data",
          "data": {
            "text/plain": [
              "<Figure size 640x480 with 1 Axes>"
            ],
            "image/png": "[encoded data removed]"
          },
          "metadata": {}
        }
      ],
      "source": [
        "from sklearn.cluster import KMeans\n",
        "\n",
        "# Determine the number of clusters using the Elbow method\n",
        "wcss = []\n",
        "for i in range(1, 11):\n",
        "    kmeans = KMeans(n_clusters=i, init='k-means++', random_state=42)\n",
        "    kmeans.fit(data2)\n",
        "    wcss.append(kmeans.inertia_)\n",
        "\n",
        "# Plot the Elbow curve\n",
        "plt.plot(range(1, 11), wcss)\n",
        "plt.xlabel('Number of Clusters')\n",
        "plt.ylabel('WCSS')\n",
        "plt.title('Elbow Method')\n",
        "plt.grid()\n",
        "plt.show()\n",
        "\n"
      ]
    },
    {
      "cell_type": "markdown",
      "source": [
        "# Applying KMeans Algorithm"
      ],
      "metadata": {
        "id": "yS3MRNyApKoq"
      },
      "id": "yS3MRNyApKoq"
    },
    {
      "cell_type": "code",
      "source": [
        "# Perform K-means clustering with the optimal number of clusters\n",
        "kmeans = KMeans(n_clusters=4, init='k-means++', random_state=42)\n",
        "kmeans.fit(data2)"
      ],
      "metadata": {
        "colab": {
          "base_uri": "https://localhost:8080/",
          "height": 129
        },
        "id": "vWkfW8AIpXXc",
        "outputId": "b9b199c0-2b62-4f5a-976e-2de5678a2818"
      },
      "id": "vWkfW8AIpXXc",
      "execution_count": 45,
      "outputs": [
        {
          "output_type": "stream",
          "name": "stderr",
          "text": [
            "/usr/local/lib/python3.10/dist-packages/sklearn/cluster/_kmeans.py:870: FutureWarning: The default value of `n_init` will change from 10 to 'auto' in 1.4. Set the value of `n_init` explicitly to suppress the warning\n",
            "  warnings.warn(\n"
          ]
        },
        {
          "output_type": "execute_result",
          "data": {
            "text/plain": [
              "KMeans(n_clusters=4, random_state=42)"
            ],
            "text/html": [
              "<style>#sk-container-id-2 {color: black;background-color: white;}#sk-container-id-2 pre{padding: 0;}#sk-container-id-2 div.sk-toggleable {background-color: white;}#sk-container-id-2 label.sk-toggleable__label {cursor: pointer;display: block;width: 100%;margin-bottom: 0;padding: 0.3em;box-sizing: border-box;text-align: center;}#sk-container-id-2 label.sk-toggleable__label-arrow:before {content: \"▸\";float: left;margin-right: 0.25em;color: #696969;}#sk-container-id-2 label.sk-toggleable__label-arrow:hover:before {color: black;}#sk-container-id-2 div.sk-estimator:hover label.sk-toggleable__label-arrow:before {color: black;}#sk-container-id-2 div.sk-toggleable__content {max-height: 0;max-width: 0;overflow: hidden;text-align: left;background-color: #f0f8ff;}#sk-container-id-2 div.sk-toggleable__content pre {margin: 0.2em;color: black;border-radius: 0.25em;background-color: #f0f8ff;}#sk-container-id-2 input.sk-toggleable__control:checked~div.sk-toggleable__content {max-height: 200px;max-width: 100%;overflow: auto;}#sk-container-id-2 input.sk-toggleable__control:checked~label.sk-toggleable__label-arrow:before {content: \"▾\";}#sk-container-id-2 div.sk-estimator input.sk-toggleable__control:checked~label.sk-toggleable__label {background-color: #d4ebff;}#sk-container-id-2 div.sk-label input.sk-toggleable__control:checked~label.sk-toggleable__label {background-color: #d4ebff;}#sk-container-id-2 input.sk-hidden--visually {border: 0;clip: rect(1px 1px 1px 1px);clip: rect(1px, 1px, 1px, 1px);height: 1px;margin: -1px;overflow: hidden;padding: 0;position: absolute;width: 1px;}#sk-container-id-2 div.sk-estimator {font-family: monospace;background-color: #f0f8ff;border: 1px dotted black;border-radius: 0.25em;box-sizing: border-box;margin-bottom: 0.5em;}#sk-container-id-2 div.sk-estimator:hover {background-color: #d4ebff;}#sk-container-id-2 div.sk-parallel-item::after {content: \"\";width: 100%;border-bottom: 1px solid gray;flex-grow: 1;}#sk-container-id-2 div.sk-label:hover label.sk-toggleable__label {background-color: #d4ebff;}#sk-container-id-2 div.sk-serial::before {content: \"\";position: absolute;border-left: 1px solid gray;box-sizing: border-box;top: 0;bottom: 0;left: 50%;z-index: 0;}#sk-container-id-2 div.sk-serial {display: flex;flex-direction: column;align-items: center;background-color: white;padding-right: 0.2em;padding-left: 0.2em;position: relative;}#sk-container-id-2 div.sk-item {position: relative;z-index: 1;}#sk-container-id-2 div.sk-parallel {display: flex;align-items: stretch;justify-content: center;background-color: white;position: relative;}#sk-container-id-2 div.sk-item::before, #sk-container-id-2 div.sk-parallel-item::before {content: \"\";position: absolute;border-left: 1px solid gray;box-sizing: border-box;top: 0;bottom: 0;left: 50%;z-index: -1;}#sk-container-id-2 div.sk-parallel-item {display: flex;flex-direction: column;z-index: 1;position: relative;background-color: white;}#sk-container-id-2 div.sk-parallel-item:first-child::after {align-self: flex-end;width: 50%;}#sk-container-id-2 div.sk-parallel-item:last-child::after {align-self: flex-start;width: 50%;}#sk-container-id-2 div.sk-parallel-item:only-child::after {width: 0;}#sk-container-id-2 div.sk-dashed-wrapped {border: 1px dashed gray;margin: 0 0.4em 0.5em 0.4em;box-sizing: border-box;padding-bottom: 0.4em;background-color: white;}#sk-container-id-2 div.sk-label label {font-family: monospace;font-weight: bold;display: inline-block;line-height: 1.2em;}#sk-container-id-2 div.sk-label-container {text-align: center;}#sk-container-id-2 div.sk-container {/* jupyter's `normalize.less` sets `[hidden] { display: none; }` but bootstrap.min.css set `[hidden] { display: none !important; }` so we also need the `!important` here to be able to override the default hidden behavior on the sphinx rendered scikit-learn.org. See: https://github.com/scikit-learn/scikit-learn/issues/21755 */display: inline-block !important;position: relative;}#sk-container-id-2 div.sk-text-repr-fallback {display: none;}</style><div id=\"sk-container-id-2\" class=\"sk-top-container\"><div class=\"sk-text-repr-fallback\"><pre>KMeans(n_clusters=4, random_state=42)</pre><b>In a Jupyter environment, please rerun this cell to show the HTML representation or trust the notebook. <br />On GitHub, the HTML representation is unable to render, please try loading this page with nbviewer.org.</b></div><div class=\"sk-container\" hidden><div class=\"sk-item\"><div class=\"sk-estimator sk-toggleable\"><input class=\"sk-toggleable__control sk-hidden--visually\" id=\"sk-estimator-id-2\" type=\"checkbox\" checked><label for=\"sk-estimator-id-2\" class=\"sk-toggleable__label sk-toggleable__label-arrow\">KMeans</label><div class=\"sk-toggleable__content\"><pre>KMeans(n_clusters=4, random_state=42)</pre></div></div></div></div></div>"
            ]
          },
          "metadata": {},
          "execution_count": 45
        }
      ]
    },
    {
      "cell_type": "code",
      "source": [
        "# Add the cluster labels to the dataset\n",
        "data2['Cluster'] = kmeans.labels_\n",
        "# Visualize the clusters\n",
        "plt.scatter(pca_data[:, 0], pca_data[:, 1], c=data2['Cluster'], cmap='viridis')\n",
        "plt.xlabel('Principal Component 1')\n",
        "plt.ylabel('Principal Component 2')\n",
        "plt.title('EV Market Segmentation - Cluster Analysis')\n",
        "plt.show()"
      ],
      "metadata": {
        "colab": {
          "base_uri": "https://localhost:8080/",
          "height": 480
        },
        "id": "UA7awzygpfKY",
        "outputId": "a5080d5a-815b-4279-a9ac-042fce6ad52d"
      },
      "id": "UA7awzygpfKY",
      "execution_count": 46,
      "outputs": [
        {
          "output_type": "display_data",
          "data": {
            "text/plain": [
              "<Figure size 640x480 with 1 Axes>"
            ],
            "image/png": "[encoded data removed]"
          },
          "metadata": {}
        }
      ]
    },
    {
      "cell_type": "markdown",
      "source": [
        "# Making Prediction"
      ],
      "metadata": {
        "id": "EPFms41J_hw7"
      },
      "id": "EPFms41J_hw7"
    },
    {
      "cell_type": "code",
      "source": [
        "kmeans_predict=KMeans(n_clusters=4,random_state=123)\n",
        "clusters=kmeans_predict.fit_predict(data2)\n",
        "data_copy[\"Clusters\"]=clusters"
      ],
      "metadata": {
        "colab": {
          "base_uri": "https://localhost:8080/"
        },
        "id": "0uMnio7V_olj",
        "outputId": "dae49bba-6300-4fe2-fbf5-5ff66242fa9c"
      },
      "id": "0uMnio7V_olj",
      "execution_count": 47,
      "outputs": [
        {
          "output_type": "stream",
          "name": "stderr",
          "text": [
            "/usr/local/lib/python3.10/dist-packages/sklearn/cluster/_kmeans.py:870: FutureWarning: The default value of `n_init` will change from 10 to 'auto' in 1.4. Set the value of `n_init` explicitly to suppress the warning\n",
            "  warnings.warn(\n"
          ]
        }
      ]
    },
    {
      "cell_type": "code",
      "source": [
        "data_copy.tail()"
      ],
      "metadata": {
        "colab": {
          "base_uri": "https://localhost:8080/",
          "height": 391
        },
        "id": "UVfXDOvUE_tK",
        "outputId": "09e20b16-87d8-4b74-ca7b-8722b376048f"
      },
      "id": "UVfXDOvUE_tK",
      "execution_count": 48,
      "outputs": [
        {
          "output_type": "execute_result",
          "data": {
            "text/plain": [
              "     Age  City  Profession  Marital Status  Education  No. of Family members  \\\n",
              "995   31    20           1               0          0                      7   \n",
              "996   29    20           1               0          1                      4   \n",
              "997   30    12           0               1          0                      4   \n",
              "998   24     0           1               0          0                      4   \n",
              "999   30    20           0               1          0                      4   \n",
              "\n",
              "     Annual Income  \\\n",
              "995   2.110722e+06   \n",
              "996   1.616288e+06   \n",
              "997   2.202829e+06   \n",
              "998   1.764744e+06   \n",
              "999   2.486664e+06   \n",
              "\n",
              "     Would you prefer replacing all your vehicles to Electronic vehicles?  \\\n",
              "995                                                  2                      \n",
              "996                                                  1                      \n",
              "997                                                  2                      \n",
              "998                                                  2                      \n",
              "999                                                  1                      \n",
              "\n",
              "     If Yes/Maybe what type of  EV would you prefer?  \\\n",
              "995                                                3   \n",
              "996                                                3   \n",
              "997                                                3   \n",
              "998                                                3   \n",
              "999                                                2   \n",
              "\n",
              "     Do you think Electronic Vehicles are economical?  \\\n",
              "995                                                 2   \n",
              "996                                                 2   \n",
              "997                                                 2   \n",
              "998                                                 2   \n",
              "999                                                 2   \n",
              "\n",
              "     Which brand of vehicle do you currently own?  \\\n",
              "995                                             5   \n",
              "996                                             5   \n",
              "997                                             3   \n",
              "998                                             7   \n",
              "999                                             8   \n",
              "\n",
              "     How much money could you spend on an Electronic vehicle?  \\\n",
              "995                                                  5          \n",
              "996                                                  6          \n",
              "997                                                  4          \n",
              "998                                                  4          \n",
              "999                                                  6          \n",
              "\n",
              "     Preference for wheels in EV  \\\n",
              "995                            4   \n",
              "996                            4   \n",
              "997                            4   \n",
              "998                            4   \n",
              "999                            4   \n",
              "\n",
              "     Do you think Electronic vehicles will replace fuel cars in India?  \\\n",
              "995                                                  1                   \n",
              "996                                                  2                   \n",
              "997                                                  2                   \n",
              "998                                                  2                   \n",
              "999                                                  1                   \n",
              "\n",
              "     Clusters  \n",
              "995         3  \n",
              "996         3  \n",
              "997         1  \n",
              "998         1  \n",
              "999         0  "
            ],
            "text/html": [
              "\n",
              "\n",
              "  <div id=\"df-8669c82b-8ddd-449c-be7f-eb68b794c319\">\n",
              "    <div class=\"colab-df-container\">\n",
              "      <div>\n",
              "<style scoped>\n",
              "    .dataframe tbody tr th:only-of-type {\n",
              "        vertical-align: middle;\n",
              "    }\n",
              "\n",
              "    .dataframe tbody tr th {\n",
              "        vertical-align: top;\n",
              "    }\n",
              "\n",
              "    .dataframe thead th {\n",
              "        text-align: right;\n",
              "    }\n",
              "</style>\n",
              "<table border=\"1\" class=\"dataframe\">\n",
              "  <thead>\n",
              "    <tr style=\"text-align: right;\">\n",
              "      <th></th>\n",
              "      <th>Age</th>\n",
              "      <th>City</th>\n",
              "      <th>Profession</th>\n",
              "      <th>Marital Status</th>\n",
              "      <th>Education</th>\n",
              "      <th>No. of Family members</th>\n",
              "      <th>Annual Income</th>\n",
              "      <th>Would you prefer replacing all your vehicles to Electronic vehicles?</th>\n",
              "      <th>If Yes/Maybe what type of  EV would you prefer?</th>\n",
              "      <th>Do you think Electronic Vehicles are economical?</th>\n",
              "      <th>Which brand of vehicle do you currently own?</th>\n",
              "      <th>How much money could you spend on an Electronic vehicle?</th>\n",
              "      <th>Preference for wheels in EV</th>\n",
              "      <th>Do you think Electronic vehicles will replace fuel cars in India?</th>\n",
              "      <th>Clusters</th>\n",
              "    </tr>\n",
              "  </thead>\n",
              "  <tbody>\n",
              "    <tr>\n",
              "      <th>995</th>\n",
              "      <td>31</td>\n",
              "      <td>20</td>\n",
              "      <td>1</td>\n",
              "      <td>0</td>\n",
              "      <td>0</td>\n",
              "      <td>7</td>\n",
              "      <td>2.110722e+06</td>\n",
              "      <td>2</td>\n",
              "      <td>3</td>\n",
              "      <td>2</td>\n",
              "      <td>5</td>\n",
              "      <td>5</td>\n",
              "      <td>4</td>\n",
              "      <td>1</td>\n",
              "      <td>3</td>\n",
              "    </tr>\n",
              "    <tr>\n",
              "      <th>996</th>\n",
              "      <td>29</td>\n",
              "      <td>20</td>\n",
              "      <td>1</td>\n",
              "      <td>0</td>\n",
              "      <td>1</td>\n",
              "      <td>4</td>\n",
              "      <td>1.616288e+06</td>\n",
              "      <td>1</td>\n",
              "      <td>3</td>\n",
              "      <td>2</td>\n",
              "      <td>5</td>\n",
              "      <td>6</td>\n",
              "      <td>4</td>\n",
              "      <td>2</td>\n",
              "      <td>3</td>\n",
              "    </tr>\n",
              "    <tr>\n",
              "      <th>997</th>\n",
              "      <td>30</td>\n",
              "      <td>12</td>\n",
              "      <td>0</td>\n",
              "      <td>1</td>\n",
              "      <td>0</td>\n",
              "      <td>4</td>\n",
              "      <td>2.202829e+06</td>\n",
              "      <td>2</td>\n",
              "      <td>3</td>\n",
              "      <td>2</td>\n",
              "      <td>3</td>\n",
              "      <td>4</td>\n",
              "      <td>4</td>\n",
              "      <td>2</td>\n",
              "      <td>1</td>\n",
              "    </tr>\n",
              "    <tr>\n",
              "      <th>998</th>\n",
              "      <td>24</td>\n",
              "      <td>0</td>\n",
              "      <td>1</td>\n",
              "      <td>0</td>\n",
              "      <td>0</td>\n",
              "      <td>4</td>\n",
              "      <td>1.764744e+06</td>\n",
              "      <td>2</td>\n",
              "      <td>3</td>\n",
              "      <td>2</td>\n",
              "      <td>7</td>\n",
              "      <td>4</td>\n",
              "      <td>4</td>\n",
              "      <td>2</td>\n",
              "      <td>1</td>\n",
              "    </tr>\n",
              "    <tr>\n",
              "      <th>999</th>\n",
              "      <td>30</td>\n",
              "      <td>20</td>\n",
              "      <td>0</td>\n",
              "      <td>1</td>\n",
              "      <td>0</td>\n",
              "      <td>4</td>\n",
              "      <td>2.486664e+06</td>\n",
              "      <td>1</td>\n",
              "      <td>2</td>\n",
              "      <td>2</td>\n",
              "      <td>8</td>\n",
              "      <td>6</td>\n",
              "      <td>4</td>\n",
              "      <td>1</td>\n",
              "      <td>0</td>\n",
              "    </tr>\n",
              "  </tbody>\n",
              "</table>\n",
              "</div>\n",
              "      <button class=\"colab-df-convert\" onclick=\"convertToInteractive('df-8669c82b-8ddd-449c-be7f-eb68b794c319')\"\n",
              "              title=\"Convert this dataframe to an interactive table.\"\n",
              "              style=\"display:none;\">\n",
              "\n",
              "  <svg xmlns=\"http://www.w3.org/2000/svg\" height=\"24px\"viewBox=\"0 0 24 24\"\n",
              "       width=\"24px\">\n",
              "    <path d=\"M0 0h24v24H0V0z\" fill=\"none\"/>\n",
              "    <path d=\"M18.56 5.44l.94 2.06.94-2.06 2.06-.94-2.06-.94-.94-2.06-.94 2.06-2.06.94zm-11 1L8.5 8.5l.94-2.06 2.06-.94-2.06-.94L8.5 2.5l-.94 2.06-2.06.94zm10 10l.94 2.06.94-2.06 2.06-.94-2.06-.94-.94-2.06-.94 2.06-2.06.94z\"/><path d=\"M17.41 7.96l-1.37-1.37c-.4-.4-.92-.59-1.43-.59-.52 0-1.04.2-1.43.59L10.3 9.45l-7.72 7.72c-.78.78-.78 2.05 0 2.83L4 21.41c.39.39.9.59 1.41.59.51 0 1.02-.2 1.41-.59l7.78-7.78 2.81-2.81c.8-.78.8-2.07 0-2.86zM5.41 20L4 18.59l7.72-7.72 1.47 1.35L5.41 20z\"/>\n",
              "  </svg>\n",
              "      </button>\n",
              "\n",
              "\n",
              "\n",
              "    <div id=\"df-4ac7573b-588d-452f-8cdf-45f283176386\">\n",
              "      <button class=\"colab-df-quickchart\" onclick=\"quickchart('df-4ac7573b-588d-452f-8cdf-45f283176386')\"\n",
              "              title=\"Suggest charts.\"\n",
              "              style=\"display:none;\">\n",
              "\n",
              "<svg xmlns=\"http://www.w3.org/2000/svg\" height=\"24px\"viewBox=\"0 0 24 24\"\n",
              "     width=\"24px\">\n",
              "    <g>\n",
              "        <path d=\"M19 3H5c-1.1 0-2 .9-2 2v14c0 1.1.9 2 2 2h14c1.1 0 2-.9 2-2V5c0-1.1-.9-2-2-2zM9 17H7v-7h2v7zm4 0h-2V7h2v10zm4 0h-2v-4h2v4z\"/>\n",
              "    </g>\n",
              "</svg>\n",
              "      </button>\n",
              "    </div>\n",
              "\n",
              "<style>\n",
              "  .colab-df-quickchart {\n",
              "    background-color: #E8F0FE;\n",
              "    border: none;\n",
              "    border-radius: 50%;\n",
              "    cursor: pointer;\n",
              "    display: none;\n",
              "    fill: #1967D2;\n",
              "    height: 32px;\n",
              "    padding: 0 0 0 0;\n",
              "    width: 32px;\n",
              "  }\n",
              "\n",
              "  .colab-df-quickchart:hover {\n",
              "    background-color: #E2EBFA;\n",
              "    box-shadow: 0px 1px 2px rgba(60, 64, 67, 0.3), 0px 1px 3px 1px rgba(60, 64, 67, 0.15);\n",
              "    fill: #174EA6;\n",
              "  }\n",
              "\n",
              "  [theme=dark] .colab-df-quickchart {\n",
              "    background-color: #3B4455;\n",
              "    fill: #D2E3FC;\n",
              "  }\n",
              "\n",
              "  [theme=dark] .colab-df-quickchart:hover {\n",
              "    background-color: #434B5C;\n",
              "    box-shadow: 0px 1px 3px 1px rgba(0, 0, 0, 0.15);\n",
              "    filter: drop-shadow(0px 1px 2px rgba(0, 0, 0, 0.3));\n",
              "    fill: #FFFFFF;\n",
              "  }\n",
              "</style>\n",
              "\n",
              "    <script>\n",
              "      async function quickchart(key) {\n",
              "        const containerElement = document.querySelector('#' + key);\n",
              "        const charts = await google.colab.kernel.invokeFunction(\n",
              "            'suggestCharts', [key], {});\n",
              "      }\n",
              "    </script>\n",
              "\n",
              "      <script>\n",
              "\n",
              "function displayQuickchartButton(domScope) {\n",
              "  let quickchartButtonEl =\n",
              "    domScope.querySelector('#df-4ac7573b-588d-452f-8cdf-45f283176386 button.colab-df-quickchart');\n",
              "  quickchartButtonEl.style.display =\n",
              "    google.colab.kernel.accessAllowed ? 'block' : 'none';\n",
              "}\n",
              "\n",
              "        displayQuickchartButton(document);\n",
              "      </script>\n",
              "      <style>\n",
              "    .colab-df-container {\n",
              "      display:flex;\n",
              "      flex-wrap:wrap;\n",
              "      gap: 12px;\n",
              "    }\n",
              "\n",
              "    .colab-df-convert {\n",
              "      background-color: #E8F0FE;\n",
              "      border: none;\n",
              "      border-radius: 50%;\n",
              "      cursor: pointer;\n",
              "      display: none;\n",
              "      fill: #1967D2;\n",
              "      height: 32px;\n",
              "      padding: 0 0 0 0;\n",
              "      width: 32px;\n",
              "    }\n",
              "\n",
              "    .colab-df-convert:hover {\n",
              "      background-color: #E2EBFA;\n",
              "      box-shadow: 0px 1px 2px rgba(60, 64, 67, 0.3), 0px 1px 3px 1px rgba(60, 64, 67, 0.15);\n",
              "      fill: #174EA6;\n",
              "    }\n",
              "\n",
              "    [theme=dark] .colab-df-convert {\n",
              "      background-color: #3B4455;\n",
              "      fill: #D2E3FC;\n",
              "    }\n",
              "\n",
              "    [theme=dark] .colab-df-convert:hover {\n",
              "      background-color: #434B5C;\n",
              "      box-shadow: 0px 1px 3px 1px rgba(0, 0, 0, 0.15);\n",
              "      filter: drop-shadow(0px 1px 2px rgba(0, 0, 0, 0.3));\n",
              "      fill: #FFFFFF;\n",
              "    }\n",
              "  </style>\n",
              "\n",
              "      <script>\n",
              "        const buttonEl =\n",
              "          document.querySelector('#df-8669c82b-8ddd-449c-be7f-eb68b794c319 button.colab-df-convert');\n",
              "        buttonEl.style.display =\n",
              "          google.colab.kernel.accessAllowed ? 'block' : 'none';\n",
              "\n",
              "        async function convertToInteractive(key) {\n",
              "          const element = document.querySelector('#df-8669c82b-8ddd-449c-be7f-eb68b794c319');\n",
              "          const dataTable =\n",
              "            await google.colab.kernel.invokeFunction('convertToInteractive',\n",
              "                                                     [key], {});\n",
              "          if (!dataTable) return;\n",
              "\n",
              "          const docLinkHtml = 'Like what you see? Visit the ' +\n",
              "            '<a target=\"_blank\" href=https://colab.research.google.com/notebooks/data_table.ipynb>data table notebook</a>'\n",
              "            + ' to learn more about interactive tables.';\n",
              "          element.innerHTML = '';\n",
              "          dataTable['output_type'] = 'display_data';\n",
              "          await google.colab.output.renderOutput(dataTable, element);\n",
              "          const docLink = document.createElement('div');\n",
              "          docLink.innerHTML = docLinkHtml;\n",
              "          element.appendChild(docLink);\n",
              "        }\n",
              "      </script>\n",
              "    </div>\n",
              "  </div>\n"
            ]
          },
          "metadata": {},
          "execution_count": 48
        }
      ]
    },
    {
      "cell_type": "code",
      "source": [
        "data_copy[\"Clusters\"].value_counts()"
      ],
      "metadata": {
        "colab": {
          "base_uri": "https://localhost:8080/"
        },
        "id": "PZXfnimvGQCf",
        "outputId": "b7bc67e4-a980-4e36-e7fa-0b0e762947fe"
      },
      "id": "PZXfnimvGQCf",
      "execution_count": 49,
      "outputs": [
        {
          "output_type": "execute_result",
          "data": {
            "text/plain": [
              "0    320\n",
              "2    259\n",
              "3    253\n",
              "1    168\n",
              "Name: Clusters, dtype: int64"
            ]
          },
          "metadata": {},
          "execution_count": 49
        }
      ]
    },
    {
      "cell_type": "code",
      "source": [
        "data_copy[\"City\"]=data_copy[\"City\"].replace({\"Pune \":\"Pune\",\"pUNE\":\"Pune\",\"pune\":\"Pune\",\"Pune\":\"Pune\"})\n",
        "data_copy[\"City\"]=data_copy[\"City\"].replace({\"Banglore \":\"Bengaluru\"})\n",
        "data_copy[\"City\"]=data_copy[\"City\"].replace({\"Hakdwani\":\"Haldwani\",\"Haldwani \":\"Haldwani\"})\n",
        "data_copy[\"City\"]=data_copy[\"City\"].replace({\"New Delhi \":\"Delhi\",\"Delhi \":\"Delhi\"})\n",
        "data_copy[\"City\"]=data_copy[\"City\"].replace({\"nashik\":\"Nashik\"})\n",
        "data_copy[\"City\"]=data_copy[\"City\"].replace({\"Mumbai \":\"Mumbai\"})"
      ],
      "metadata": {
        "id": "eqckSq4zJ8r4"
      },
      "id": "eqckSq4zJ8r4",
      "execution_count": 50,
      "outputs": []
    },
    {
      "cell_type": "markdown",
      "source": [
        "# Bifurcating the data according to the cluster"
      ],
      "metadata": {
        "id": "icBAJAUfLUNO"
      },
      "id": "icBAJAUfLUNO"
    },
    {
      "cell_type": "code",
      "source": [
        "Cluster_0=data_copy[data_copy.Clusters==0]\n",
        "Cluster_1=data_copy[data_copy.Clusters==1]\n",
        "Cluster_2=data_copy[data_copy.Clusters==2]\n",
        "Cluster_3=data_copy[data_copy.Clusters==3]"
      ],
      "metadata": {
        "id": "a2mORySYKJ-s"
      },
      "id": "a2mORySYKJ-s",
      "execution_count": 51,
      "outputs": []
    },
    {
      "cell_type": "markdown",
      "source": [
        "# Demographic Segments"
      ],
      "metadata": {
        "id": "OS-21h3XL8pq"
      },
      "id": "OS-21h3XL8pq"
    },
    {
      "cell_type": "code",
      "source": [
        "[Cluster_0[\"Age\"].value_counts().head(),\n",
        "Cluster_1[\"Age\"].value_counts().head(),\n",
        "Cluster_2[\"Age\"].value_counts().head(),\n",
        "Cluster_3[\"Age\"].value_counts().head()]\n",
        "\n",
        "# Age group of 28-31 needs to be targeted"
      ],
      "metadata": {
        "colab": {
          "base_uri": "https://localhost:8080/"
        },
        "id": "SyUZzD2eLZ87",
        "outputId": "16bb0735-1a4a-4d1a-f450-c0e0de312a46"
      },
      "id": "SyUZzD2eLZ87",
      "execution_count": 52,
      "outputs": [
        {
          "output_type": "execute_result",
          "data": {
            "text/plain": [
              "[29    41\n",
              " 28    36\n",
              " 27    28\n",
              " 30    26\n",
              " 26    26\n",
              " Name: Age, dtype: int64,\n",
              " 30    20\n",
              " 28    18\n",
              " 31    17\n",
              " 27    17\n",
              " 29    15\n",
              " Name: Age, dtype: int64,\n",
              " 30    34\n",
              " 28    30\n",
              " 29    26\n",
              " 25    24\n",
              " 27    23\n",
              " Name: Age, dtype: int64,\n",
              " 29    34\n",
              " 31    32\n",
              " 30    25\n",
              " 27    19\n",
              " 26    19\n",
              " Name: Age, dtype: int64]"
            ]
          },
          "metadata": {},
          "execution_count": 52
        }
      ]
    },
    {
      "cell_type": "markdown",
      "source": [
        "# Profession"
      ],
      "metadata": {
        "id": "arGvDiq6M0XG"
      },
      "id": "arGvDiq6M0XG"
    },
    {
      "cell_type": "code",
      "source": [
        "[Cluster_0[\"Profession\"].value_counts().head(),\n",
        "Cluster_1[\"Profession\"].value_counts().head(),\n",
        "Cluster_2[\"Profession\"].value_counts().head(),\n",
        "Cluster_3[\"Profession\"].value_counts().head()]"
      ],
      "metadata": {
        "colab": {
          "base_uri": "https://localhost:8080/"
        },
        "id": "df-5UVddMB4n",
        "outputId": "a0fd6721-1138-4025-b4a7-c144c8557424"
      },
      "id": "df-5UVddMB4n",
      "execution_count": 53,
      "outputs": [
        {
          "output_type": "execute_result",
          "data": {
            "text/plain": [
              "[1    151\n",
              " 3    106\n",
              " 0     49\n",
              " 2     14\n",
              " Name: Profession, dtype: int64,\n",
              " 1    82\n",
              " 3    46\n",
              " 0    35\n",
              " 2     5\n",
              " Name: Profession, dtype: int64,\n",
              " 3    113\n",
              " 1    107\n",
              " 0     28\n",
              " 2     11\n",
              " Name: Profession, dtype: int64,\n",
              " 1    120\n",
              " 3     71\n",
              " 0     55\n",
              " 2      7\n",
              " Name: Profession, dtype: int64]"
            ]
          },
          "metadata": {},
          "execution_count": 53
        }
      ]
    },
    {
      "cell_type": "markdown",
      "source": [
        "# Education"
      ],
      "metadata": {
        "id": "7GR_RsmrNGyO"
      },
      "id": "7GR_RsmrNGyO"
    },
    {
      "cell_type": "code",
      "source": [
        "[Cluster_0[\"Education\"].value_counts().head(),\n",
        "Cluster_1[\"Education\"].value_counts().head(),\n",
        "Cluster_2[\"Education\"].value_counts().head(),\n",
        "Cluster_3[\"Education\"].value_counts().head()]\n",
        "\n",
        "# Graduate people needs to be targeted most"
      ],
      "metadata": {
        "colab": {
          "base_uri": "https://localhost:8080/"
        },
        "id": "DmMTQMXANA6t",
        "outputId": "0e677ddc-bacc-4b3e-a829-c3a56fa5cf4f"
      },
      "id": "DmMTQMXANA6t",
      "execution_count": 54,
      "outputs": [
        {
          "output_type": "execute_result",
          "data": {
            "text/plain": [
              "[0    282\n",
              " 1     38\n",
              " Name: Education, dtype: int64,\n",
              " 0    119\n",
              " 1     49\n",
              " Name: Education, dtype: int64,\n",
              " 1    156\n",
              " 0    103\n",
              " Name: Education, dtype: int64,\n",
              " 0    189\n",
              " 1     64\n",
              " Name: Education, dtype: int64]"
            ]
          },
          "metadata": {},
          "execution_count": 54
        }
      ]
    },
    {
      "cell_type": "markdown",
      "source": [
        "# Income group"
      ],
      "metadata": {
        "id": "egCM5nvHNdVA"
      },
      "id": "egCM5nvHNdVA"
    },
    {
      "cell_type": "code",
      "source": [
        "[Cluster_0[\"Annual Income\"].mean(),\n",
        "Cluster_1[\"Annual Income\"].mean(),\n",
        "Cluster_2[\"Annual Income\"].mean(),\n",
        "Cluster_3[\"Annual Income\"].mean()]\n",
        "\n",
        "# Cluster 2 has the highest average income, followed by cluster 3,1,0\n",
        ""
      ],
      "metadata": {
        "colab": {
          "base_uri": "https://localhost:8080/"
        },
        "id": "-YisGzXDNPFd",
        "outputId": "5c8a75ff-8b1c-4e1a-854f-ed983533a702"
      },
      "id": "-YisGzXDNPFd",
      "execution_count": 55,
      "outputs": [
        {
          "output_type": "execute_result",
          "data": {
            "text/plain": [
              "[2207931.4082911005, 2171296.1099393917, 2332636.085258727, 2303846.958786252]"
            ]
          },
          "metadata": {},
          "execution_count": 55
        }
      ]
    },
    {
      "cell_type": "markdown",
      "source": [
        "# Geographic Segments"
      ],
      "metadata": {
        "id": "u89EPcRIN-jM"
      },
      "id": "u89EPcRIN-jM"
    },
    {
      "cell_type": "code",
      "source": [
        "[Cluster_0[\"City\"].value_counts().head(),\n",
        "Cluster_1[\"City\"].value_counts().head(),\n",
        "Cluster_2[\"City\"].value_counts().head(),\n",
        "Cluster_3[\"City\"].value_counts().head()]"
      ],
      "metadata": {
        "colab": {
          "base_uri": "https://localhost:8080/"
        },
        "id": "fvYfI-mfNiq8",
        "outputId": "3b769a6a-b4ad-45d7-f317-009447166f15"
      },
      "id": "fvYfI-mfNiq8",
      "execution_count": 56,
      "outputs": [
        {
          "output_type": "execute_result",
          "data": {
            "text/plain": [
              "[20    234\n",
              " 12     18\n",
              " 22     11\n",
              " 17      8\n",
              " 16      8\n",
              " Name: City, dtype: int64,\n",
              " 4    38\n",
              " 7    26\n",
              " 1    23\n",
              " 3    15\n",
              " 2    12\n",
              " Name: City, dtype: int64,\n",
              " 20    193\n",
              " 12     19\n",
              " 17      6\n",
              " 15      6\n",
              " 21      5\n",
              " Name: City, dtype: int64,\n",
              " 20    194\n",
              " 14     10\n",
              " 12     10\n",
              " 22      6\n",
              " 17      5\n",
              " Name: City, dtype: int64]"
            ]
          },
          "metadata": {},
          "execution_count": 56
        }
      ]
    },
    {
      "cell_type": "markdown",
      "source": [
        "# Psychographic segments"
      ],
      "metadata": {
        "id": "eC7rOsBKcitZ"
      },
      "id": "eC7rOsBKcitZ"
    },
    {
      "cell_type": "markdown",
      "source": [
        "**Marital Status**"
      ],
      "metadata": {
        "id": "mABbP4docq1X"
      },
      "id": "mABbP4docq1X"
    },
    {
      "cell_type": "code",
      "source": [
        "[Cluster_0[\"Marital Status\"].value_counts().head(),\n",
        "Cluster_1[\"Marital Status\"].value_counts().head(),\n",
        "Cluster_2[\"Marital Status\"].value_counts().head(),\n",
        "Cluster_3[\"Marital Status\"].value_counts().head()]\n",
        "\n",
        "# Single People should be the targeted"
      ],
      "metadata": {
        "colab": {
          "base_uri": "https://localhost:8080/"
        },
        "id": "xdQhAEfGcuJz",
        "outputId": "739fd49c-000f-4bc3-f8f1-1d7f40ee233c"
      },
      "id": "xdQhAEfGcuJz",
      "execution_count": 57,
      "outputs": [
        {
          "output_type": "execute_result",
          "data": {
            "text/plain": [
              "[1    316\n",
              " 0      4\n",
              " Name: Marital Status, dtype: int64,\n",
              " 1    103\n",
              " 0     65\n",
              " Name: Marital Status, dtype: int64,\n",
              " 1    217\n",
              " 0     42\n",
              " Name: Marital Status, dtype: int64,\n",
              " 0    251\n",
              " 1      2\n",
              " Name: Marital Status, dtype: int64]"
            ]
          },
          "metadata": {},
          "execution_count": 57
        }
      ]
    },
    {
      "cell_type": "markdown",
      "source": [
        "# EV type Preference"
      ],
      "metadata": {
        "id": "wIXollP6dT74"
      },
      "id": "wIXollP6dT74"
    },
    {
      "cell_type": "code",
      "source": [
        "[Cluster_0[\"Preference for wheels in EV\"].value_counts().head(),\n",
        "Cluster_1[\"Preference for wheels in EV\"].value_counts().head(),\n",
        "Cluster_2[\"Preference for wheels in EV\"].value_counts().head(),\n",
        "Cluster_3[\"Preference for wheels in EV\"].value_counts().head()]\n",
        "\n",
        "# 4 wheeler are more preferred EV vehicle in the market\n",
        "# Followed by 2 wheeler and 3 wheeler\n",
        ""
      ],
      "metadata": {
        "colab": {
          "base_uri": "https://localhost:8080/"
        },
        "id": "Lq2koEG3cxol",
        "outputId": "20275dd3-3aa9-4fd5-a7f7-a99467f40214"
      },
      "id": "Lq2koEG3cxol",
      "execution_count": 58,
      "outputs": [
        {
          "output_type": "execute_result",
          "data": {
            "text/plain": [
              "[4    173\n",
              " 2    118\n",
              " 3     29\n",
              " Name: Preference for wheels in EV, dtype: int64,\n",
              " 4    106\n",
              " 2     46\n",
              " 3     16\n",
              " Name: Preference for wheels in EV, dtype: int64,\n",
              " 4    179\n",
              " 2     54\n",
              " 3     26\n",
              " Name: Preference for wheels in EV, dtype: int64,\n",
              " 4    171\n",
              " 2     62\n",
              " 3     20\n",
              " Name: Preference for wheels in EV, dtype: int64]"
            ]
          },
          "metadata": {},
          "execution_count": 58
        }
      ]
    },
    {
      "cell_type": "code",
      "source": [
        "[Cluster_0['Which brand of vehicle do you currently own?'].value_counts().head(),\n",
        " Cluster_1['Which brand of vehicle do you currently own?'].value_counts().head(),\n",
        " Cluster_2['Which brand of vehicle do you currently own?'].value_counts().head(),\n",
        " Cluster_3['Which brand of vehicle do you currently own?'].value_counts().head()]\n",
        "\n",
        "# Tata is the most preferred brand in all the cluster\n",
        "# Hyundai and KIA is the 2nd best preferred brand in the market\n",
        "# Followed by Honda and Nissian\n",
        ""
      ],
      "metadata": {
        "colab": {
          "base_uri": "https://localhost:8080/"
        },
        "id": "U7WN44JtdY_4",
        "outputId": "00e201d4-bc47-4ab3-d9df-fa7d6005f8d7"
      },
      "id": "U7WN44JtdY_4",
      "execution_count": 59,
      "outputs": [
        {
          "output_type": "execute_result",
          "data": {
            "text/plain": [
              "[4     77\n",
              " 3     61\n",
              " 5     56\n",
              " 6     24\n",
              " 14    23\n",
              " Name: Which brand of vehicle do you currently own?, dtype: int64,\n",
              " 4     31\n",
              " 14    26\n",
              " 5     25\n",
              " 12    24\n",
              " 3     23\n",
              " Name: Which brand of vehicle do you currently own?, dtype: int64,\n",
              " 14    104\n",
              " 12     55\n",
              " 15     26\n",
              " 4      17\n",
              " 5      14\n",
              " Name: Which brand of vehicle do you currently own?, dtype: int64,\n",
              " 5     49\n",
              " 3     49\n",
              " 4     40\n",
              " 14    33\n",
              " 12    21\n",
              " Name: Which brand of vehicle do you currently own?, dtype: int64]"
            ]
          },
          "metadata": {},
          "execution_count": 59
        }
      ]
    },
    {
      "cell_type": "code",
      "source": [
        "print(Cluster_0['If Yes/Maybe what type of  EV would you prefer?'].value_counts().head())\n",
        "print(Cluster_1['If Yes/Maybe what type of  EV would you prefer?'].value_counts().head())\n",
        "print(Cluster_2['If Yes/Maybe what type of  EV would you prefer?'].value_counts().head())\n",
        "print(Cluster_3['If Yes/Maybe what type of  EV would you prefer?'].value_counts().head())\n",
        "\n",
        "#Suv and Sedan are the most preferred EV in all the cluster\n",
        "# Followed by Hatchback and Liftback being 2nd preferred EV\n",
        "#Cabrio being the least preferred"
      ],
      "metadata": {
        "colab": {
          "base_uri": "https://localhost:8080/"
        },
        "id": "O14TNgxldeGR",
        "outputId": "e26c52e7-b25d-484e-f44e-444919fe4e81"
      },
      "id": "O14TNgxldeGR",
      "execution_count": 60,
      "outputs": [
        {
          "output_type": "stream",
          "name": "stdout",
          "text": [
            "3    155\n",
            "4     84\n",
            "1     39\n",
            "2     34\n",
            "0      8\n",
            "Name: If Yes/Maybe what type of  EV would you prefer?, dtype: int64\n",
            "3    91\n",
            "4    34\n",
            "1    23\n",
            "2    18\n",
            "0     2\n",
            "Name: If Yes/Maybe what type of  EV would you prefer?, dtype: int64\n",
            "3    112\n",
            "4     57\n",
            "1     46\n",
            "2     32\n",
            "0     12\n",
            "Name: If Yes/Maybe what type of  EV would you prefer?, dtype: int64\n",
            "3    109\n",
            "4     65\n",
            "1     36\n",
            "2     36\n",
            "0      7\n",
            "Name: If Yes/Maybe what type of  EV would you prefer?, dtype: int64\n"
          ]
        }
      ]
    },
    {
      "cell_type": "code",
      "source": [
        "[Cluster_0[\"How much money could you spend on an Electronic vehicle?\"].value_counts().head(),\n",
        "Cluster_1[\"How much money could you spend on an Electronic vehicle?\"].value_counts().head(),\n",
        "Cluster_2[\"How much money could you spend on an Electronic vehicle?\"].value_counts().head(),\n",
        "Cluster_3[\"How much money could you spend on an Electronic vehicle?\"].value_counts().head()]\n",
        ""
      ],
      "metadata": {
        "colab": {
          "base_uri": "https://localhost:8080/"
        },
        "id": "s4Q2mkOgdgss",
        "outputId": "3702ae9d-818e-4082-baa4-6bf782b739f2"
      },
      "id": "s4Q2mkOgdgss",
      "execution_count": 61,
      "outputs": [
        {
          "output_type": "execute_result",
          "data": {
            "text/plain": [
              "[4    154\n",
              " 6     94\n",
              " 5     50\n",
              " 7      8\n",
              " 0      5\n",
              " Name: How much money could you spend on an Electronic vehicle?, dtype: int64,\n",
              " 4    87\n",
              " 6    44\n",
              " 5    22\n",
              " 7     9\n",
              " 2     3\n",
              " Name: How much money could you spend on an Electronic vehicle?, dtype: int64,\n",
              " 4    113\n",
              " 6     81\n",
              " 5     45\n",
              " 7      9\n",
              " 3      5\n",
              " Name: How much money could you spend on an Electronic vehicle?, dtype: int64,\n",
              " 4    129\n",
              " 6     69\n",
              " 5     31\n",
              " 7      8\n",
              " 0      7\n",
              " Name: How much money could you spend on an Electronic vehicle?, dtype: int64]"
            ]
          },
          "metadata": {},
          "execution_count": 61
        }
      ]
    },
    {
      "cell_type": "code",
      "source": [],
      "metadata": {
        "id": "H2fUiGlkdoBO"
      },
      "id": "H2fUiGlkdoBO",
      "execution_count": null,
      "outputs": []
    }
  ],
  "metadata": {
    "kernelspec": {
      "display_name": "Python 3",
      "name": "python3"
    },
    "language_info": {
      "codemirror_mode": {
        "name": "ipython",
        "version": 3
      },
      "file_extension": ".py",
      "mimetype": "text/x-python",
      "name": "python",
      "nbconvert_exporter": "python",
      "pygments_lexer": "ipython3",
      "version": "3.9.13"
    },
    "colab": {
      "provenance": [],
      "gpuType": "T4"
    },
    "accelerator": "GPU"
  },
  "nbformat": 4,
  "nbformat_minor": 5
}